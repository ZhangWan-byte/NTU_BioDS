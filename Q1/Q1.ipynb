{
 "cells": [
  {
   "cell_type": "code",
   "execution_count": 113,
   "id": "53da9be3",
   "metadata": {},
   "outputs": [],
   "source": [
    "import pandas as pd\n",
    "import numpy as np\n",
    "import matplotlib.pyplot as plt\n",
    "import gc\n",
    "import math\n",
    "from tqdm import tqdm\n",
    "from datetime import datetime\n",
    "from sklearn.model_selection import train_test_split\n",
    "from sklearn.datasets import load_digits\n",
    "from sklearn.datasets import fetch_openml\n",
    "\n",
    "import torch\n",
    "import torch.nn as nn\n",
    "from torch.nn.parameter import Parameter\n",
    "from torch.nn import init\n",
    "import torch.nn.functional as F\n",
    "import torch.optim as optim\n",
    "from torch.autograd import Variable\n",
    "from torchvision import transforms\n"
   ]
  },
  {
   "cell_type": "markdown",
   "id": "a3400239",
   "metadata": {},
   "source": [
    "# Data Loading"
   ]
  },
  {
   "cell_type": "code",
   "execution_count": 114,
   "id": "f61e44c3",
   "metadata": {},
   "outputs": [
    {
     "data": {
      "text/plain": [
       "((14196, 784), (14196,))"
      ]
     },
     "execution_count": 114,
     "metadata": {},
     "output_type": "execute_result"
    }
   ],
   "source": [
    "# fetch MNIST dataset\n",
    "mnist = fetch_openml('mnist_784')\n",
    "X = mnist.data\n",
    "y = mnist.target\n",
    "\n",
    "# fetch only 0 and 7\n",
    "X = X[np.logical_or(y == '0', y == '7')]\n",
    "y = y[np.logical_or(y == '0', y == '7')]\n",
    "\n",
    "X.shape, y.shape"
   ]
  },
  {
   "cell_type": "code",
   "execution_count": 115,
   "id": "72ba42cc",
   "metadata": {},
   "outputs": [
    {
     "data": {
      "text/plain": [
       "<matplotlib.image.AxesImage at 0x7f15a2884fa0>"
      ]
     },
     "execution_count": 115,
     "metadata": {},
     "output_type": "execute_result"
    },
    {
     "data": {
      "image/png": "[encoded data removed]",
      "text/plain": [
       "<Figure size 288x288 with 1 Axes>"
      ]
     },
     "metadata": {
      "needs_background": "light"
     },
     "output_type": "display_data"
    }
   ],
   "source": [
    "plt.matshow(X.iloc[0,:].to_numpy().reshape(28,28))"
   ]
  },
  {
   "cell_type": "code",
   "execution_count": 116,
   "id": "6fbe3c77",
   "metadata": {},
   "outputs": [
    {
     "data": {
      "text/plain": [
       "<matplotlib.image.AxesImage at 0x7f15a29c5fd0>"
      ]
     },
     "execution_count": 116,
     "metadata": {},
     "output_type": "execute_result"
    },
    {
     "data": {
      "image/png": "[encoded data removed]",
      "text/plain": [
       "<Figure size 288x288 with 1 Axes>"
      ]
     },
     "metadata": {
      "needs_background": "light"
     },
     "output_type": "display_data"
    }
   ],
   "source": [
    "plt.matshow(X.iloc[1,:].to_numpy().reshape(28,28))"
   ]
  },
  {
   "cell_type": "code",
   "execution_count": 117,
   "id": "b7c7ac48",
   "metadata": {
    "scrolled": true
   },
   "outputs": [
    {
     "data": {
      "text/html": [
       "<div>\n",
       "<style scoped>\n",
       "    .dataframe tbody tr th:only-of-type {\n",
       "        vertical-align: middle;\n",
       "    }\n",
       "\n",
       "    .dataframe tbody tr th {\n",
       "        vertical-align: top;\n",
       "    }\n",
       "\n",
       "    .dataframe thead th {\n",
       "        text-align: right;\n",
       "    }\n",
       "</style>\n",
       "<table border=\"1\" class=\"dataframe\">\n",
       "  <thead>\n",
       "    <tr style=\"text-align: right;\">\n",
       "      <th></th>\n",
       "      <th>pixel1</th>\n",
       "      <th>pixel2</th>\n",
       "      <th>pixel3</th>\n",
       "      <th>pixel4</th>\n",
       "      <th>pixel5</th>\n",
       "      <th>pixel6</th>\n",
       "      <th>pixel7</th>\n",
       "      <th>pixel8</th>\n",
       "      <th>pixel9</th>\n",
       "      <th>pixel10</th>\n",
       "      <th>...</th>\n",
       "      <th>pixel775</th>\n",
       "      <th>pixel776</th>\n",
       "      <th>pixel777</th>\n",
       "      <th>pixel778</th>\n",
       "      <th>pixel779</th>\n",
       "      <th>pixel780</th>\n",
       "      <th>pixel781</th>\n",
       "      <th>pixel782</th>\n",
       "      <th>pixel783</th>\n",
       "      <th>pixel784</th>\n",
       "    </tr>\n",
       "  </thead>\n",
       "  <tbody>\n",
       "    <tr>\n",
       "      <th>0</th>\n",
       "      <td>0.0</td>\n",
       "      <td>0.0</td>\n",
       "      <td>0.0</td>\n",
       "      <td>0.0</td>\n",
       "      <td>0.0</td>\n",
       "      <td>0.0</td>\n",
       "      <td>0.0</td>\n",
       "      <td>0.0</td>\n",
       "      <td>0.0</td>\n",
       "      <td>0.0</td>\n",
       "      <td>...</td>\n",
       "      <td>0.0</td>\n",
       "      <td>0.0</td>\n",
       "      <td>0.0</td>\n",
       "      <td>0.0</td>\n",
       "      <td>0.0</td>\n",
       "      <td>0.0</td>\n",
       "      <td>0.0</td>\n",
       "      <td>0.0</td>\n",
       "      <td>0.0</td>\n",
       "      <td>0.0</td>\n",
       "    </tr>\n",
       "    <tr>\n",
       "      <th>1</th>\n",
       "      <td>0.0</td>\n",
       "      <td>0.0</td>\n",
       "      <td>0.0</td>\n",
       "      <td>0.0</td>\n",
       "      <td>0.0</td>\n",
       "      <td>0.0</td>\n",
       "      <td>0.0</td>\n",
       "      <td>0.0</td>\n",
       "      <td>0.0</td>\n",
       "      <td>0.0</td>\n",
       "      <td>...</td>\n",
       "      <td>0.0</td>\n",
       "      <td>0.0</td>\n",
       "      <td>0.0</td>\n",
       "      <td>0.0</td>\n",
       "      <td>0.0</td>\n",
       "      <td>0.0</td>\n",
       "      <td>0.0</td>\n",
       "      <td>0.0</td>\n",
       "      <td>0.0</td>\n",
       "      <td>0.0</td>\n",
       "    </tr>\n",
       "    <tr>\n",
       "      <th>2</th>\n",
       "      <td>0.0</td>\n",
       "      <td>0.0</td>\n",
       "      <td>0.0</td>\n",
       "      <td>0.0</td>\n",
       "      <td>0.0</td>\n",
       "      <td>0.0</td>\n",
       "      <td>0.0</td>\n",
       "      <td>0.0</td>\n",
       "      <td>0.0</td>\n",
       "      <td>0.0</td>\n",
       "      <td>...</td>\n",
       "      <td>0.0</td>\n",
       "      <td>0.0</td>\n",
       "      <td>0.0</td>\n",
       "      <td>0.0</td>\n",
       "      <td>0.0</td>\n",
       "      <td>0.0</td>\n",
       "      <td>0.0</td>\n",
       "      <td>0.0</td>\n",
       "      <td>0.0</td>\n",
       "      <td>0.0</td>\n",
       "    </tr>\n",
       "    <tr>\n",
       "      <th>3</th>\n",
       "      <td>0.0</td>\n",
       "      <td>0.0</td>\n",
       "      <td>0.0</td>\n",
       "      <td>0.0</td>\n",
       "      <td>0.0</td>\n",
       "      <td>0.0</td>\n",
       "      <td>0.0</td>\n",
       "      <td>0.0</td>\n",
       "      <td>0.0</td>\n",
       "      <td>0.0</td>\n",
       "      <td>...</td>\n",
       "      <td>0.0</td>\n",
       "      <td>0.0</td>\n",
       "      <td>0.0</td>\n",
       "      <td>0.0</td>\n",
       "      <td>0.0</td>\n",
       "      <td>0.0</td>\n",
       "      <td>0.0</td>\n",
       "      <td>0.0</td>\n",
       "      <td>0.0</td>\n",
       "      <td>0.0</td>\n",
       "    </tr>\n",
       "    <tr>\n",
       "      <th>4</th>\n",
       "      <td>0.0</td>\n",
       "      <td>0.0</td>\n",
       "      <td>0.0</td>\n",
       "      <td>0.0</td>\n",
       "      <td>0.0</td>\n",
       "      <td>0.0</td>\n",
       "      <td>0.0</td>\n",
       "      <td>0.0</td>\n",
       "      <td>0.0</td>\n",
       "      <td>0.0</td>\n",
       "      <td>...</td>\n",
       "      <td>0.0</td>\n",
       "      <td>0.0</td>\n",
       "      <td>0.0</td>\n",
       "      <td>0.0</td>\n",
       "      <td>0.0</td>\n",
       "      <td>0.0</td>\n",
       "      <td>0.0</td>\n",
       "      <td>0.0</td>\n",
       "      <td>0.0</td>\n",
       "      <td>0.0</td>\n",
       "    </tr>\n",
       "    <tr>\n",
       "      <th>...</th>\n",
       "      <td>...</td>\n",
       "      <td>...</td>\n",
       "      <td>...</td>\n",
       "      <td>...</td>\n",
       "      <td>...</td>\n",
       "      <td>...</td>\n",
       "      <td>...</td>\n",
       "      <td>...</td>\n",
       "      <td>...</td>\n",
       "      <td>...</td>\n",
       "      <td>...</td>\n",
       "      <td>...</td>\n",
       "      <td>...</td>\n",
       "      <td>...</td>\n",
       "      <td>...</td>\n",
       "      <td>...</td>\n",
       "      <td>...</td>\n",
       "      <td>...</td>\n",
       "      <td>...</td>\n",
       "      <td>...</td>\n",
       "      <td>...</td>\n",
       "    </tr>\n",
       "    <tr>\n",
       "      <th>14191</th>\n",
       "      <td>0.0</td>\n",
       "      <td>0.0</td>\n",
       "      <td>0.0</td>\n",
       "      <td>0.0</td>\n",
       "      <td>0.0</td>\n",
       "      <td>0.0</td>\n",
       "      <td>0.0</td>\n",
       "      <td>0.0</td>\n",
       "      <td>0.0</td>\n",
       "      <td>0.0</td>\n",
       "      <td>...</td>\n",
       "      <td>0.0</td>\n",
       "      <td>0.0</td>\n",
       "      <td>0.0</td>\n",
       "      <td>0.0</td>\n",
       "      <td>0.0</td>\n",
       "      <td>0.0</td>\n",
       "      <td>0.0</td>\n",
       "      <td>0.0</td>\n",
       "      <td>0.0</td>\n",
       "      <td>0.0</td>\n",
       "    </tr>\n",
       "    <tr>\n",
       "      <th>14192</th>\n",
       "      <td>0.0</td>\n",
       "      <td>0.0</td>\n",
       "      <td>0.0</td>\n",
       "      <td>0.0</td>\n",
       "      <td>0.0</td>\n",
       "      <td>0.0</td>\n",
       "      <td>0.0</td>\n",
       "      <td>0.0</td>\n",
       "      <td>0.0</td>\n",
       "      <td>0.0</td>\n",
       "      <td>...</td>\n",
       "      <td>0.0</td>\n",
       "      <td>0.0</td>\n",
       "      <td>0.0</td>\n",
       "      <td>0.0</td>\n",
       "      <td>0.0</td>\n",
       "      <td>0.0</td>\n",
       "      <td>0.0</td>\n",
       "      <td>0.0</td>\n",
       "      <td>0.0</td>\n",
       "      <td>0.0</td>\n",
       "    </tr>\n",
       "    <tr>\n",
       "      <th>14193</th>\n",
       "      <td>0.0</td>\n",
       "      <td>0.0</td>\n",
       "      <td>0.0</td>\n",
       "      <td>0.0</td>\n",
       "      <td>0.0</td>\n",
       "      <td>0.0</td>\n",
       "      <td>0.0</td>\n",
       "      <td>0.0</td>\n",
       "      <td>0.0</td>\n",
       "      <td>0.0</td>\n",
       "      <td>...</td>\n",
       "      <td>0.0</td>\n",
       "      <td>0.0</td>\n",
       "      <td>0.0</td>\n",
       "      <td>0.0</td>\n",
       "      <td>0.0</td>\n",
       "      <td>0.0</td>\n",
       "      <td>0.0</td>\n",
       "      <td>0.0</td>\n",
       "      <td>0.0</td>\n",
       "      <td>0.0</td>\n",
       "    </tr>\n",
       "    <tr>\n",
       "      <th>14194</th>\n",
       "      <td>0.0</td>\n",
       "      <td>0.0</td>\n",
       "      <td>0.0</td>\n",
       "      <td>0.0</td>\n",
       "      <td>0.0</td>\n",
       "      <td>0.0</td>\n",
       "      <td>0.0</td>\n",
       "      <td>0.0</td>\n",
       "      <td>0.0</td>\n",
       "      <td>0.0</td>\n",
       "      <td>...</td>\n",
       "      <td>0.0</td>\n",
       "      <td>0.0</td>\n",
       "      <td>0.0</td>\n",
       "      <td>0.0</td>\n",
       "      <td>0.0</td>\n",
       "      <td>0.0</td>\n",
       "      <td>0.0</td>\n",
       "      <td>0.0</td>\n",
       "      <td>0.0</td>\n",
       "      <td>0.0</td>\n",
       "    </tr>\n",
       "    <tr>\n",
       "      <th>14195</th>\n",
       "      <td>0.0</td>\n",
       "      <td>0.0</td>\n",
       "      <td>0.0</td>\n",
       "      <td>0.0</td>\n",
       "      <td>0.0</td>\n",
       "      <td>0.0</td>\n",
       "      <td>0.0</td>\n",
       "      <td>0.0</td>\n",
       "      <td>0.0</td>\n",
       "      <td>0.0</td>\n",
       "      <td>...</td>\n",
       "      <td>0.0</td>\n",
       "      <td>0.0</td>\n",
       "      <td>0.0</td>\n",
       "      <td>0.0</td>\n",
       "      <td>0.0</td>\n",
       "      <td>0.0</td>\n",
       "      <td>0.0</td>\n",
       "      <td>0.0</td>\n",
       "      <td>0.0</td>\n",
       "      <td>0.0</td>\n",
       "    </tr>\n",
       "  </tbody>\n",
       "</table>\n",
       "<p>14196 rows × 784 columns</p>\n",
       "</div>"
      ],
      "text/plain": [
       "       pixel1  pixel2  pixel3  pixel4  pixel5  pixel6  pixel7  pixel8  pixel9  \\\n",
       "0         0.0     0.0     0.0     0.0     0.0     0.0     0.0     0.0     0.0   \n",
       "1         0.0     0.0     0.0     0.0     0.0     0.0     0.0     0.0     0.0   \n",
       "2         0.0     0.0     0.0     0.0     0.0     0.0     0.0     0.0     0.0   \n",
       "3         0.0     0.0     0.0     0.0     0.0     0.0     0.0     0.0     0.0   \n",
       "4         0.0     0.0     0.0     0.0     0.0     0.0     0.0     0.0     0.0   \n",
       "...       ...     ...     ...     ...     ...     ...     ...     ...     ...   \n",
       "14191     0.0     0.0     0.0     0.0     0.0     0.0     0.0     0.0     0.0   \n",
       "14192     0.0     0.0     0.0     0.0     0.0     0.0     0.0     0.0     0.0   \n",
       "14193     0.0     0.0     0.0     0.0     0.0     0.0     0.0     0.0     0.0   \n",
       "14194     0.0     0.0     0.0     0.0     0.0     0.0     0.0     0.0     0.0   \n",
       "14195     0.0     0.0     0.0     0.0     0.0     0.0     0.0     0.0     0.0   \n",
       "\n",
       "       pixel10  ...  pixel775  pixel776  pixel777  pixel778  pixel779  \\\n",
       "0          0.0  ...       0.0       0.0       0.0       0.0       0.0   \n",
       "1          0.0  ...       0.0       0.0       0.0       0.0       0.0   \n",
       "2          0.0  ...       0.0       0.0       0.0       0.0       0.0   \n",
       "3          0.0  ...       0.0       0.0       0.0       0.0       0.0   \n",
       "4          0.0  ...       0.0       0.0       0.0       0.0       0.0   \n",
       "...        ...  ...       ...       ...       ...       ...       ...   \n",
       "14191      0.0  ...       0.0       0.0       0.0       0.0       0.0   \n",
       "14192      0.0  ...       0.0       0.0       0.0       0.0       0.0   \n",
       "14193      0.0  ...       0.0       0.0       0.0       0.0       0.0   \n",
       "14194      0.0  ...       0.0       0.0       0.0       0.0       0.0   \n",
       "14195      0.0  ...       0.0       0.0       0.0       0.0       0.0   \n",
       "\n",
       "       pixel780  pixel781  pixel782  pixel783  pixel784  \n",
       "0           0.0       0.0       0.0       0.0       0.0  \n",
       "1           0.0       0.0       0.0       0.0       0.0  \n",
       "2           0.0       0.0       0.0       0.0       0.0  \n",
       "3           0.0       0.0       0.0       0.0       0.0  \n",
       "4           0.0       0.0       0.0       0.0       0.0  \n",
       "...         ...       ...       ...       ...       ...  \n",
       "14191       0.0       0.0       0.0       0.0       0.0  \n",
       "14192       0.0       0.0       0.0       0.0       0.0  \n",
       "14193       0.0       0.0       0.0       0.0       0.0  \n",
       "14194       0.0       0.0       0.0       0.0       0.0  \n",
       "14195       0.0       0.0       0.0       0.0       0.0  \n",
       "\n",
       "[14196 rows x 784 columns]"
      ]
     },
     "execution_count": 117,
     "metadata": {},
     "output_type": "execute_result"
    }
   ],
   "source": [
    "X = X.reset_index()\n",
    "X.drop([\"index\"],axis=1,inplace=True)\n",
    "X"
   ]
  },
  {
   "cell_type": "code",
   "execution_count": 118,
   "id": "014e9528",
   "metadata": {},
   "outputs": [
    {
     "data": {
      "text/html": [
       "<div>\n",
       "<style scoped>\n",
       "    .dataframe tbody tr th:only-of-type {\n",
       "        vertical-align: middle;\n",
       "    }\n",
       "\n",
       "    .dataframe tbody tr th {\n",
       "        vertical-align: top;\n",
       "    }\n",
       "\n",
       "    .dataframe thead th {\n",
       "        text-align: right;\n",
       "    }\n",
       "</style>\n",
       "<table border=\"1\" class=\"dataframe\">\n",
       "  <thead>\n",
       "    <tr style=\"text-align: right;\">\n",
       "      <th></th>\n",
       "      <th>class</th>\n",
       "    </tr>\n",
       "  </thead>\n",
       "  <tbody>\n",
       "    <tr>\n",
       "      <th>0</th>\n",
       "      <td>0</td>\n",
       "    </tr>\n",
       "    <tr>\n",
       "      <th>1</th>\n",
       "      <td>7</td>\n",
       "    </tr>\n",
       "    <tr>\n",
       "      <th>2</th>\n",
       "      <td>0</td>\n",
       "    </tr>\n",
       "    <tr>\n",
       "      <th>3</th>\n",
       "      <td>7</td>\n",
       "    </tr>\n",
       "    <tr>\n",
       "      <th>4</th>\n",
       "      <td>0</td>\n",
       "    </tr>\n",
       "    <tr>\n",
       "      <th>...</th>\n",
       "      <td>...</td>\n",
       "    </tr>\n",
       "    <tr>\n",
       "      <th>14191</th>\n",
       "      <td>7</td>\n",
       "    </tr>\n",
       "    <tr>\n",
       "      <th>14192</th>\n",
       "      <td>7</td>\n",
       "    </tr>\n",
       "    <tr>\n",
       "      <th>14193</th>\n",
       "      <td>0</td>\n",
       "    </tr>\n",
       "    <tr>\n",
       "      <th>14194</th>\n",
       "      <td>7</td>\n",
       "    </tr>\n",
       "    <tr>\n",
       "      <th>14195</th>\n",
       "      <td>0</td>\n",
       "    </tr>\n",
       "  </tbody>\n",
       "</table>\n",
       "<p>14196 rows × 1 columns</p>\n",
       "</div>"
      ],
      "text/plain": [
       "      class\n",
       "0         0\n",
       "1         7\n",
       "2         0\n",
       "3         7\n",
       "4         0\n",
       "...     ...\n",
       "14191     7\n",
       "14192     7\n",
       "14193     0\n",
       "14194     7\n",
       "14195     0\n",
       "\n",
       "[14196 rows x 1 columns]"
      ]
     },
     "execution_count": 118,
     "metadata": {},
     "output_type": "execute_result"
    }
   ],
   "source": [
    "y = y.reset_index()\n",
    "y.drop([\"index\"],axis=1,inplace=True)\n",
    "y"
   ]
  },
  {
   "cell_type": "markdown",
   "id": "71c2e55c",
   "metadata": {},
   "source": [
    "# 1. Create dataset with bags"
   ]
  },
  {
   "cell_type": "code",
   "execution_count": 119,
   "id": "24a0d22e",
   "metadata": {},
   "outputs": [
    {
     "data": {
      "text/html": [
       "<div>\n",
       "<style scoped>\n",
       "    .dataframe tbody tr th:only-of-type {\n",
       "        vertical-align: middle;\n",
       "    }\n",
       "\n",
       "    .dataframe tbody tr th {\n",
       "        vertical-align: top;\n",
       "    }\n",
       "\n",
       "    .dataframe thead th {\n",
       "        text-align: right;\n",
       "    }\n",
       "</style>\n",
       "<table border=\"1\" class=\"dataframe\">\n",
       "  <thead>\n",
       "    <tr style=\"text-align: right;\">\n",
       "      <th></th>\n",
       "      <th>pixel1</th>\n",
       "      <th>pixel2</th>\n",
       "      <th>pixel3</th>\n",
       "      <th>pixel4</th>\n",
       "      <th>pixel5</th>\n",
       "      <th>pixel6</th>\n",
       "      <th>pixel7</th>\n",
       "      <th>pixel8</th>\n",
       "      <th>pixel9</th>\n",
       "      <th>pixel10</th>\n",
       "      <th>...</th>\n",
       "      <th>pixel775</th>\n",
       "      <th>pixel776</th>\n",
       "      <th>pixel777</th>\n",
       "      <th>pixel778</th>\n",
       "      <th>pixel779</th>\n",
       "      <th>pixel780</th>\n",
       "      <th>pixel781</th>\n",
       "      <th>pixel782</th>\n",
       "      <th>pixel783</th>\n",
       "      <th>pixel784</th>\n",
       "    </tr>\n",
       "  </thead>\n",
       "  <tbody>\n",
       "    <tr>\n",
       "      <th>0</th>\n",
       "      <td>0.0</td>\n",
       "      <td>0.0</td>\n",
       "      <td>0.0</td>\n",
       "      <td>0.0</td>\n",
       "      <td>0.0</td>\n",
       "      <td>0.0</td>\n",
       "      <td>0.0</td>\n",
       "      <td>0.0</td>\n",
       "      <td>0.0</td>\n",
       "      <td>0.0</td>\n",
       "      <td>...</td>\n",
       "      <td>0.0</td>\n",
       "      <td>0.0</td>\n",
       "      <td>0.0</td>\n",
       "      <td>0.0</td>\n",
       "      <td>0.0</td>\n",
       "      <td>0.0</td>\n",
       "      <td>0.0</td>\n",
       "      <td>0.0</td>\n",
       "      <td>0.0</td>\n",
       "      <td>0.0</td>\n",
       "    </tr>\n",
       "    <tr>\n",
       "      <th>1</th>\n",
       "      <td>0.0</td>\n",
       "      <td>0.0</td>\n",
       "      <td>0.0</td>\n",
       "      <td>0.0</td>\n",
       "      <td>0.0</td>\n",
       "      <td>0.0</td>\n",
       "      <td>0.0</td>\n",
       "      <td>0.0</td>\n",
       "      <td>0.0</td>\n",
       "      <td>0.0</td>\n",
       "      <td>...</td>\n",
       "      <td>0.0</td>\n",
       "      <td>0.0</td>\n",
       "      <td>0.0</td>\n",
       "      <td>0.0</td>\n",
       "      <td>0.0</td>\n",
       "      <td>0.0</td>\n",
       "      <td>0.0</td>\n",
       "      <td>0.0</td>\n",
       "      <td>0.0</td>\n",
       "      <td>0.0</td>\n",
       "    </tr>\n",
       "    <tr>\n",
       "      <th>2</th>\n",
       "      <td>0.0</td>\n",
       "      <td>0.0</td>\n",
       "      <td>0.0</td>\n",
       "      <td>0.0</td>\n",
       "      <td>0.0</td>\n",
       "      <td>0.0</td>\n",
       "      <td>0.0</td>\n",
       "      <td>0.0</td>\n",
       "      <td>0.0</td>\n",
       "      <td>0.0</td>\n",
       "      <td>...</td>\n",
       "      <td>0.0</td>\n",
       "      <td>0.0</td>\n",
       "      <td>0.0</td>\n",
       "      <td>0.0</td>\n",
       "      <td>0.0</td>\n",
       "      <td>0.0</td>\n",
       "      <td>0.0</td>\n",
       "      <td>0.0</td>\n",
       "      <td>0.0</td>\n",
       "      <td>0.0</td>\n",
       "    </tr>\n",
       "    <tr>\n",
       "      <th>3</th>\n",
       "      <td>0.0</td>\n",
       "      <td>0.0</td>\n",
       "      <td>0.0</td>\n",
       "      <td>0.0</td>\n",
       "      <td>0.0</td>\n",
       "      <td>0.0</td>\n",
       "      <td>0.0</td>\n",
       "      <td>0.0</td>\n",
       "      <td>0.0</td>\n",
       "      <td>0.0</td>\n",
       "      <td>...</td>\n",
       "      <td>0.0</td>\n",
       "      <td>0.0</td>\n",
       "      <td>0.0</td>\n",
       "      <td>0.0</td>\n",
       "      <td>0.0</td>\n",
       "      <td>0.0</td>\n",
       "      <td>0.0</td>\n",
       "      <td>0.0</td>\n",
       "      <td>0.0</td>\n",
       "      <td>0.0</td>\n",
       "    </tr>\n",
       "    <tr>\n",
       "      <th>4</th>\n",
       "      <td>0.0</td>\n",
       "      <td>0.0</td>\n",
       "      <td>0.0</td>\n",
       "      <td>0.0</td>\n",
       "      <td>0.0</td>\n",
       "      <td>0.0</td>\n",
       "      <td>0.0</td>\n",
       "      <td>0.0</td>\n",
       "      <td>0.0</td>\n",
       "      <td>0.0</td>\n",
       "      <td>...</td>\n",
       "      <td>0.0</td>\n",
       "      <td>0.0</td>\n",
       "      <td>0.0</td>\n",
       "      <td>0.0</td>\n",
       "      <td>0.0</td>\n",
       "      <td>0.0</td>\n",
       "      <td>0.0</td>\n",
       "      <td>0.0</td>\n",
       "      <td>0.0</td>\n",
       "      <td>0.0</td>\n",
       "    </tr>\n",
       "    <tr>\n",
       "      <th>...</th>\n",
       "      <td>...</td>\n",
       "      <td>...</td>\n",
       "      <td>...</td>\n",
       "      <td>...</td>\n",
       "      <td>...</td>\n",
       "      <td>...</td>\n",
       "      <td>...</td>\n",
       "      <td>...</td>\n",
       "      <td>...</td>\n",
       "      <td>...</td>\n",
       "      <td>...</td>\n",
       "      <td>...</td>\n",
       "      <td>...</td>\n",
       "      <td>...</td>\n",
       "      <td>...</td>\n",
       "      <td>...</td>\n",
       "      <td>...</td>\n",
       "      <td>...</td>\n",
       "      <td>...</td>\n",
       "      <td>...</td>\n",
       "      <td>...</td>\n",
       "    </tr>\n",
       "    <tr>\n",
       "      <th>14191</th>\n",
       "      <td>0.0</td>\n",
       "      <td>0.0</td>\n",
       "      <td>0.0</td>\n",
       "      <td>0.0</td>\n",
       "      <td>0.0</td>\n",
       "      <td>0.0</td>\n",
       "      <td>0.0</td>\n",
       "      <td>0.0</td>\n",
       "      <td>0.0</td>\n",
       "      <td>0.0</td>\n",
       "      <td>...</td>\n",
       "      <td>0.0</td>\n",
       "      <td>0.0</td>\n",
       "      <td>0.0</td>\n",
       "      <td>0.0</td>\n",
       "      <td>0.0</td>\n",
       "      <td>0.0</td>\n",
       "      <td>0.0</td>\n",
       "      <td>0.0</td>\n",
       "      <td>0.0</td>\n",
       "      <td>0.0</td>\n",
       "    </tr>\n",
       "    <tr>\n",
       "      <th>14192</th>\n",
       "      <td>0.0</td>\n",
       "      <td>0.0</td>\n",
       "      <td>0.0</td>\n",
       "      <td>0.0</td>\n",
       "      <td>0.0</td>\n",
       "      <td>0.0</td>\n",
       "      <td>0.0</td>\n",
       "      <td>0.0</td>\n",
       "      <td>0.0</td>\n",
       "      <td>0.0</td>\n",
       "      <td>...</td>\n",
       "      <td>0.0</td>\n",
       "      <td>0.0</td>\n",
       "      <td>0.0</td>\n",
       "      <td>0.0</td>\n",
       "      <td>0.0</td>\n",
       "      <td>0.0</td>\n",
       "      <td>0.0</td>\n",
       "      <td>0.0</td>\n",
       "      <td>0.0</td>\n",
       "      <td>0.0</td>\n",
       "    </tr>\n",
       "    <tr>\n",
       "      <th>14193</th>\n",
       "      <td>0.0</td>\n",
       "      <td>0.0</td>\n",
       "      <td>0.0</td>\n",
       "      <td>0.0</td>\n",
       "      <td>0.0</td>\n",
       "      <td>0.0</td>\n",
       "      <td>0.0</td>\n",
       "      <td>0.0</td>\n",
       "      <td>0.0</td>\n",
       "      <td>0.0</td>\n",
       "      <td>...</td>\n",
       "      <td>0.0</td>\n",
       "      <td>0.0</td>\n",
       "      <td>0.0</td>\n",
       "      <td>0.0</td>\n",
       "      <td>0.0</td>\n",
       "      <td>0.0</td>\n",
       "      <td>0.0</td>\n",
       "      <td>0.0</td>\n",
       "      <td>0.0</td>\n",
       "      <td>0.0</td>\n",
       "    </tr>\n",
       "    <tr>\n",
       "      <th>14194</th>\n",
       "      <td>0.0</td>\n",
       "      <td>0.0</td>\n",
       "      <td>0.0</td>\n",
       "      <td>0.0</td>\n",
       "      <td>0.0</td>\n",
       "      <td>0.0</td>\n",
       "      <td>0.0</td>\n",
       "      <td>0.0</td>\n",
       "      <td>0.0</td>\n",
       "      <td>0.0</td>\n",
       "      <td>...</td>\n",
       "      <td>0.0</td>\n",
       "      <td>0.0</td>\n",
       "      <td>0.0</td>\n",
       "      <td>0.0</td>\n",
       "      <td>0.0</td>\n",
       "      <td>0.0</td>\n",
       "      <td>0.0</td>\n",
       "      <td>0.0</td>\n",
       "      <td>0.0</td>\n",
       "      <td>0.0</td>\n",
       "    </tr>\n",
       "    <tr>\n",
       "      <th>14195</th>\n",
       "      <td>0.0</td>\n",
       "      <td>0.0</td>\n",
       "      <td>0.0</td>\n",
       "      <td>0.0</td>\n",
       "      <td>0.0</td>\n",
       "      <td>0.0</td>\n",
       "      <td>0.0</td>\n",
       "      <td>0.0</td>\n",
       "      <td>0.0</td>\n",
       "      <td>0.0</td>\n",
       "      <td>...</td>\n",
       "      <td>0.0</td>\n",
       "      <td>0.0</td>\n",
       "      <td>0.0</td>\n",
       "      <td>0.0</td>\n",
       "      <td>0.0</td>\n",
       "      <td>0.0</td>\n",
       "      <td>0.0</td>\n",
       "      <td>0.0</td>\n",
       "      <td>0.0</td>\n",
       "      <td>0.0</td>\n",
       "    </tr>\n",
       "  </tbody>\n",
       "</table>\n",
       "<p>14196 rows × 784 columns</p>\n",
       "</div>"
      ],
      "text/plain": [
       "       pixel1  pixel2  pixel3  pixel4  pixel5  pixel6  pixel7  pixel8  pixel9  \\\n",
       "0         0.0     0.0     0.0     0.0     0.0     0.0     0.0     0.0     0.0   \n",
       "1         0.0     0.0     0.0     0.0     0.0     0.0     0.0     0.0     0.0   \n",
       "2         0.0     0.0     0.0     0.0     0.0     0.0     0.0     0.0     0.0   \n",
       "3         0.0     0.0     0.0     0.0     0.0     0.0     0.0     0.0     0.0   \n",
       "4         0.0     0.0     0.0     0.0     0.0     0.0     0.0     0.0     0.0   \n",
       "...       ...     ...     ...     ...     ...     ...     ...     ...     ...   \n",
       "14191     0.0     0.0     0.0     0.0     0.0     0.0     0.0     0.0     0.0   \n",
       "14192     0.0     0.0     0.0     0.0     0.0     0.0     0.0     0.0     0.0   \n",
       "14193     0.0     0.0     0.0     0.0     0.0     0.0     0.0     0.0     0.0   \n",
       "14194     0.0     0.0     0.0     0.0     0.0     0.0     0.0     0.0     0.0   \n",
       "14195     0.0     0.0     0.0     0.0     0.0     0.0     0.0     0.0     0.0   \n",
       "\n",
       "       pixel10  ...  pixel775  pixel776  pixel777  pixel778  pixel779  \\\n",
       "0          0.0  ...       0.0       0.0       0.0       0.0       0.0   \n",
       "1          0.0  ...       0.0       0.0       0.0       0.0       0.0   \n",
       "2          0.0  ...       0.0       0.0       0.0       0.0       0.0   \n",
       "3          0.0  ...       0.0       0.0       0.0       0.0       0.0   \n",
       "4          0.0  ...       0.0       0.0       0.0       0.0       0.0   \n",
       "...        ...  ...       ...       ...       ...       ...       ...   \n",
       "14191      0.0  ...       0.0       0.0       0.0       0.0       0.0   \n",
       "14192      0.0  ...       0.0       0.0       0.0       0.0       0.0   \n",
       "14193      0.0  ...       0.0       0.0       0.0       0.0       0.0   \n",
       "14194      0.0  ...       0.0       0.0       0.0       0.0       0.0   \n",
       "14195      0.0  ...       0.0       0.0       0.0       0.0       0.0   \n",
       "\n",
       "       pixel780  pixel781  pixel782  pixel783  pixel784  \n",
       "0           0.0       0.0       0.0       0.0       0.0  \n",
       "1           0.0       0.0       0.0       0.0       0.0  \n",
       "2           0.0       0.0       0.0       0.0       0.0  \n",
       "3           0.0       0.0       0.0       0.0       0.0  \n",
       "4           0.0       0.0       0.0       0.0       0.0  \n",
       "...         ...       ...       ...       ...       ...  \n",
       "14191       0.0       0.0       0.0       0.0       0.0  \n",
       "14192       0.0       0.0       0.0       0.0       0.0  \n",
       "14193       0.0       0.0       0.0       0.0       0.0  \n",
       "14194       0.0       0.0       0.0       0.0       0.0  \n",
       "14195       0.0       0.0       0.0       0.0       0.0  \n",
       "\n",
       "[14196 rows x 784 columns]"
      ]
     },
     "execution_count": 119,
     "metadata": {},
     "output_type": "execute_result"
    }
   ],
   "source": [
    "# scale pixel values from 0~255 to 0~1\n",
    "X = X/255\n",
    "X"
   ]
  },
  {
   "cell_type": "code",
   "execution_count": 120,
   "id": "b9a4403a",
   "metadata": {},
   "outputs": [
    {
     "data": {
      "text/html": [
       "<div>\n",
       "<style scoped>\n",
       "    .dataframe tbody tr th:only-of-type {\n",
       "        vertical-align: middle;\n",
       "    }\n",
       "\n",
       "    .dataframe tbody tr th {\n",
       "        vertical-align: top;\n",
       "    }\n",
       "\n",
       "    .dataframe thead th {\n",
       "        text-align: right;\n",
       "    }\n",
       "</style>\n",
       "<table border=\"1\" class=\"dataframe\">\n",
       "  <thead>\n",
       "    <tr style=\"text-align: right;\">\n",
       "      <th></th>\n",
       "      <th>pixel1</th>\n",
       "      <th>pixel2</th>\n",
       "      <th>pixel3</th>\n",
       "      <th>pixel4</th>\n",
       "      <th>pixel5</th>\n",
       "      <th>pixel6</th>\n",
       "      <th>pixel7</th>\n",
       "      <th>pixel8</th>\n",
       "      <th>pixel9</th>\n",
       "      <th>pixel10</th>\n",
       "      <th>...</th>\n",
       "      <th>pixel776</th>\n",
       "      <th>pixel777</th>\n",
       "      <th>pixel778</th>\n",
       "      <th>pixel779</th>\n",
       "      <th>pixel780</th>\n",
       "      <th>pixel781</th>\n",
       "      <th>pixel782</th>\n",
       "      <th>pixel783</th>\n",
       "      <th>pixel784</th>\n",
       "      <th>class</th>\n",
       "    </tr>\n",
       "  </thead>\n",
       "  <tbody>\n",
       "    <tr>\n",
       "      <th>1606</th>\n",
       "      <td>0.0</td>\n",
       "      <td>0.0</td>\n",
       "      <td>0.0</td>\n",
       "      <td>0.0</td>\n",
       "      <td>0.0</td>\n",
       "      <td>0.0</td>\n",
       "      <td>0.0</td>\n",
       "      <td>0.0</td>\n",
       "      <td>0.0</td>\n",
       "      <td>0.0</td>\n",
       "      <td>...</td>\n",
       "      <td>0.0</td>\n",
       "      <td>0.0</td>\n",
       "      <td>0.0</td>\n",
       "      <td>0.0</td>\n",
       "      <td>0.0</td>\n",
       "      <td>0.0</td>\n",
       "      <td>0.0</td>\n",
       "      <td>0.0</td>\n",
       "      <td>0.0</td>\n",
       "      <td>7</td>\n",
       "    </tr>\n",
       "    <tr>\n",
       "      <th>9538</th>\n",
       "      <td>0.0</td>\n",
       "      <td>0.0</td>\n",
       "      <td>0.0</td>\n",
       "      <td>0.0</td>\n",
       "      <td>0.0</td>\n",
       "      <td>0.0</td>\n",
       "      <td>0.0</td>\n",
       "      <td>0.0</td>\n",
       "      <td>0.0</td>\n",
       "      <td>0.0</td>\n",
       "      <td>...</td>\n",
       "      <td>0.0</td>\n",
       "      <td>0.0</td>\n",
       "      <td>0.0</td>\n",
       "      <td>0.0</td>\n",
       "      <td>0.0</td>\n",
       "      <td>0.0</td>\n",
       "      <td>0.0</td>\n",
       "      <td>0.0</td>\n",
       "      <td>0.0</td>\n",
       "      <td>7</td>\n",
       "    </tr>\n",
       "    <tr>\n",
       "      <th>11178</th>\n",
       "      <td>0.0</td>\n",
       "      <td>0.0</td>\n",
       "      <td>0.0</td>\n",
       "      <td>0.0</td>\n",
       "      <td>0.0</td>\n",
       "      <td>0.0</td>\n",
       "      <td>0.0</td>\n",
       "      <td>0.0</td>\n",
       "      <td>0.0</td>\n",
       "      <td>0.0</td>\n",
       "      <td>...</td>\n",
       "      <td>0.0</td>\n",
       "      <td>0.0</td>\n",
       "      <td>0.0</td>\n",
       "      <td>0.0</td>\n",
       "      <td>0.0</td>\n",
       "      <td>0.0</td>\n",
       "      <td>0.0</td>\n",
       "      <td>0.0</td>\n",
       "      <td>0.0</td>\n",
       "      <td>7</td>\n",
       "    </tr>\n",
       "    <tr>\n",
       "      <th>455</th>\n",
       "      <td>0.0</td>\n",
       "      <td>0.0</td>\n",
       "      <td>0.0</td>\n",
       "      <td>0.0</td>\n",
       "      <td>0.0</td>\n",
       "      <td>0.0</td>\n",
       "      <td>0.0</td>\n",
       "      <td>0.0</td>\n",
       "      <td>0.0</td>\n",
       "      <td>0.0</td>\n",
       "      <td>...</td>\n",
       "      <td>0.0</td>\n",
       "      <td>0.0</td>\n",
       "      <td>0.0</td>\n",
       "      <td>0.0</td>\n",
       "      <td>0.0</td>\n",
       "      <td>0.0</td>\n",
       "      <td>0.0</td>\n",
       "      <td>0.0</td>\n",
       "      <td>0.0</td>\n",
       "      <td>7</td>\n",
       "    </tr>\n",
       "    <tr>\n",
       "      <th>10381</th>\n",
       "      <td>0.0</td>\n",
       "      <td>0.0</td>\n",
       "      <td>0.0</td>\n",
       "      <td>0.0</td>\n",
       "      <td>0.0</td>\n",
       "      <td>0.0</td>\n",
       "      <td>0.0</td>\n",
       "      <td>0.0</td>\n",
       "      <td>0.0</td>\n",
       "      <td>0.0</td>\n",
       "      <td>...</td>\n",
       "      <td>0.0</td>\n",
       "      <td>0.0</td>\n",
       "      <td>0.0</td>\n",
       "      <td>0.0</td>\n",
       "      <td>0.0</td>\n",
       "      <td>0.0</td>\n",
       "      <td>0.0</td>\n",
       "      <td>0.0</td>\n",
       "      <td>0.0</td>\n",
       "      <td>7</td>\n",
       "    </tr>\n",
       "    <tr>\n",
       "      <th>...</th>\n",
       "      <td>...</td>\n",
       "      <td>...</td>\n",
       "      <td>...</td>\n",
       "      <td>...</td>\n",
       "      <td>...</td>\n",
       "      <td>...</td>\n",
       "      <td>...</td>\n",
       "      <td>...</td>\n",
       "      <td>...</td>\n",
       "      <td>...</td>\n",
       "      <td>...</td>\n",
       "      <td>...</td>\n",
       "      <td>...</td>\n",
       "      <td>...</td>\n",
       "      <td>...</td>\n",
       "      <td>...</td>\n",
       "      <td>...</td>\n",
       "      <td>...</td>\n",
       "      <td>...</td>\n",
       "      <td>...</td>\n",
       "      <td>...</td>\n",
       "    </tr>\n",
       "    <tr>\n",
       "      <th>5191</th>\n",
       "      <td>0.0</td>\n",
       "      <td>0.0</td>\n",
       "      <td>0.0</td>\n",
       "      <td>0.0</td>\n",
       "      <td>0.0</td>\n",
       "      <td>0.0</td>\n",
       "      <td>0.0</td>\n",
       "      <td>0.0</td>\n",
       "      <td>0.0</td>\n",
       "      <td>0.0</td>\n",
       "      <td>...</td>\n",
       "      <td>0.0</td>\n",
       "      <td>0.0</td>\n",
       "      <td>0.0</td>\n",
       "      <td>0.0</td>\n",
       "      <td>0.0</td>\n",
       "      <td>0.0</td>\n",
       "      <td>0.0</td>\n",
       "      <td>0.0</td>\n",
       "      <td>0.0</td>\n",
       "      <td>7</td>\n",
       "    </tr>\n",
       "    <tr>\n",
       "      <th>13418</th>\n",
       "      <td>0.0</td>\n",
       "      <td>0.0</td>\n",
       "      <td>0.0</td>\n",
       "      <td>0.0</td>\n",
       "      <td>0.0</td>\n",
       "      <td>0.0</td>\n",
       "      <td>0.0</td>\n",
       "      <td>0.0</td>\n",
       "      <td>0.0</td>\n",
       "      <td>0.0</td>\n",
       "      <td>...</td>\n",
       "      <td>0.0</td>\n",
       "      <td>0.0</td>\n",
       "      <td>0.0</td>\n",
       "      <td>0.0</td>\n",
       "      <td>0.0</td>\n",
       "      <td>0.0</td>\n",
       "      <td>0.0</td>\n",
       "      <td>0.0</td>\n",
       "      <td>0.0</td>\n",
       "      <td>7</td>\n",
       "    </tr>\n",
       "    <tr>\n",
       "      <th>5390</th>\n",
       "      <td>0.0</td>\n",
       "      <td>0.0</td>\n",
       "      <td>0.0</td>\n",
       "      <td>0.0</td>\n",
       "      <td>0.0</td>\n",
       "      <td>0.0</td>\n",
       "      <td>0.0</td>\n",
       "      <td>0.0</td>\n",
       "      <td>0.0</td>\n",
       "      <td>0.0</td>\n",
       "      <td>...</td>\n",
       "      <td>0.0</td>\n",
       "      <td>0.0</td>\n",
       "      <td>0.0</td>\n",
       "      <td>0.0</td>\n",
       "      <td>0.0</td>\n",
       "      <td>0.0</td>\n",
       "      <td>0.0</td>\n",
       "      <td>0.0</td>\n",
       "      <td>0.0</td>\n",
       "      <td>0</td>\n",
       "    </tr>\n",
       "    <tr>\n",
       "      <th>860</th>\n",
       "      <td>0.0</td>\n",
       "      <td>0.0</td>\n",
       "      <td>0.0</td>\n",
       "      <td>0.0</td>\n",
       "      <td>0.0</td>\n",
       "      <td>0.0</td>\n",
       "      <td>0.0</td>\n",
       "      <td>0.0</td>\n",
       "      <td>0.0</td>\n",
       "      <td>0.0</td>\n",
       "      <td>...</td>\n",
       "      <td>0.0</td>\n",
       "      <td>0.0</td>\n",
       "      <td>0.0</td>\n",
       "      <td>0.0</td>\n",
       "      <td>0.0</td>\n",
       "      <td>0.0</td>\n",
       "      <td>0.0</td>\n",
       "      <td>0.0</td>\n",
       "      <td>0.0</td>\n",
       "      <td>0</td>\n",
       "    </tr>\n",
       "    <tr>\n",
       "      <th>7270</th>\n",
       "      <td>0.0</td>\n",
       "      <td>0.0</td>\n",
       "      <td>0.0</td>\n",
       "      <td>0.0</td>\n",
       "      <td>0.0</td>\n",
       "      <td>0.0</td>\n",
       "      <td>0.0</td>\n",
       "      <td>0.0</td>\n",
       "      <td>0.0</td>\n",
       "      <td>0.0</td>\n",
       "      <td>...</td>\n",
       "      <td>0.0</td>\n",
       "      <td>0.0</td>\n",
       "      <td>0.0</td>\n",
       "      <td>0.0</td>\n",
       "      <td>0.0</td>\n",
       "      <td>0.0</td>\n",
       "      <td>0.0</td>\n",
       "      <td>0.0</td>\n",
       "      <td>0.0</td>\n",
       "      <td>7</td>\n",
       "    </tr>\n",
       "  </tbody>\n",
       "</table>\n",
       "<p>14196 rows × 785 columns</p>\n",
       "</div>"
      ],
      "text/plain": [
       "       pixel1  pixel2  pixel3  pixel4  pixel5  pixel6  pixel7  pixel8  pixel9  \\\n",
       "1606      0.0     0.0     0.0     0.0     0.0     0.0     0.0     0.0     0.0   \n",
       "9538      0.0     0.0     0.0     0.0     0.0     0.0     0.0     0.0     0.0   \n",
       "11178     0.0     0.0     0.0     0.0     0.0     0.0     0.0     0.0     0.0   \n",
       "455       0.0     0.0     0.0     0.0     0.0     0.0     0.0     0.0     0.0   \n",
       "10381     0.0     0.0     0.0     0.0     0.0     0.0     0.0     0.0     0.0   \n",
       "...       ...     ...     ...     ...     ...     ...     ...     ...     ...   \n",
       "5191      0.0     0.0     0.0     0.0     0.0     0.0     0.0     0.0     0.0   \n",
       "13418     0.0     0.0     0.0     0.0     0.0     0.0     0.0     0.0     0.0   \n",
       "5390      0.0     0.0     0.0     0.0     0.0     0.0     0.0     0.0     0.0   \n",
       "860       0.0     0.0     0.0     0.0     0.0     0.0     0.0     0.0     0.0   \n",
       "7270      0.0     0.0     0.0     0.0     0.0     0.0     0.0     0.0     0.0   \n",
       "\n",
       "       pixel10  ...  pixel776  pixel777  pixel778  pixel779  pixel780  \\\n",
       "1606       0.0  ...       0.0       0.0       0.0       0.0       0.0   \n",
       "9538       0.0  ...       0.0       0.0       0.0       0.0       0.0   \n",
       "11178      0.0  ...       0.0       0.0       0.0       0.0       0.0   \n",
       "455        0.0  ...       0.0       0.0       0.0       0.0       0.0   \n",
       "10381      0.0  ...       0.0       0.0       0.0       0.0       0.0   \n",
       "...        ...  ...       ...       ...       ...       ...       ...   \n",
       "5191       0.0  ...       0.0       0.0       0.0       0.0       0.0   \n",
       "13418      0.0  ...       0.0       0.0       0.0       0.0       0.0   \n",
       "5390       0.0  ...       0.0       0.0       0.0       0.0       0.0   \n",
       "860        0.0  ...       0.0       0.0       0.0       0.0       0.0   \n",
       "7270       0.0  ...       0.0       0.0       0.0       0.0       0.0   \n",
       "\n",
       "       pixel781  pixel782  pixel783  pixel784  class  \n",
       "1606        0.0       0.0       0.0       0.0      7  \n",
       "9538        0.0       0.0       0.0       0.0      7  \n",
       "11178       0.0       0.0       0.0       0.0      7  \n",
       "455         0.0       0.0       0.0       0.0      7  \n",
       "10381       0.0       0.0       0.0       0.0      7  \n",
       "...         ...       ...       ...       ...    ...  \n",
       "5191        0.0       0.0       0.0       0.0      7  \n",
       "13418       0.0       0.0       0.0       0.0      7  \n",
       "5390        0.0       0.0       0.0       0.0      0  \n",
       "860         0.0       0.0       0.0       0.0      0  \n",
       "7270        0.0       0.0       0.0       0.0      7  \n",
       "\n",
       "[14196 rows x 785 columns]"
      ]
     },
     "execution_count": 120,
     "metadata": {},
     "output_type": "execute_result"
    }
   ],
   "source": [
    "# concat X and y and shuffle the data\n",
    "data = pd.concat([X, y],axis=1)\n",
    "data = data.sample(data.shape[0], random_state=42)\n",
    "data"
   ]
  },
  {
   "cell_type": "code",
   "execution_count": 121,
   "id": "da5f36b1",
   "metadata": {},
   "outputs": [
    {
     "name": "stdout",
     "output_type": "stream",
     "text": [
      "(6903, 785) (7293, 785)\n"
     ]
    }
   ],
   "source": [
    "# get samples with label '0' and '7'\n",
    "data_0 = data[data[\"class\"]=='0']\n",
    "data_7 = data[data[\"class\"]=='7']\n",
    "\n",
    "print(data_0.shape, data_7.shape)"
   ]
  },
  {
   "cell_type": "code",
   "execution_count": 125,
   "id": "fde3e118",
   "metadata": {},
   "outputs": [
    {
     "name": "stderr",
     "output_type": "stream",
     "text": [
      "100%|██████████| 98/98 [00:00<00:00, 338.62it/s]\n"
     ]
    },
    {
     "name": "stdout",
     "output_type": "stream",
     "text": [
      "(98, 100, 28, 28) (98,)\n"
     ]
    }
   ],
   "source": [
    "# set proportion of '0' in a bag to be 70%\n",
    "X_li = []\n",
    "y_li = []\n",
    "\n",
    "for i in tqdm(range(math.floor(data_0.shape[0]/70))):\n",
    "    tmp1 = data_0.sample(n=70)\n",
    "    tmp2 = data_7.sample(n=30)\n",
    "    tmp = pd.concat([tmp1,tmp2],axis=0)\n",
    "    \n",
    "    X_li.append(tmp.iloc[:,:-1].to_numpy().reshape(100,28,28))\n",
    "    y_li.append(0.7)\n",
    "\n",
    "X_bag = np.stack(X_li, axis=0)\n",
    "y_bag = np.array(y_li)\n",
    "\n",
    "print(X_bag.shape, y_bag.shape)"
   ]
  },
  {
   "cell_type": "code",
   "execution_count": 123,
   "id": "702f9aad",
   "metadata": {},
   "outputs": [
    {
     "name": "stderr",
     "output_type": "stream",
     "text": [
      "100%|██████████| 141/141 [00:01<00:00, 78.27it/s]\n"
     ]
    },
    {
     "name": "stdout",
     "output_type": "stream",
     "text": [
      "X_bag shape:  (141, 280, 280)\n",
      "y_bag shape:  (141,)\n"
     ]
    }
   ],
   "source": [
    "# # Assign 100 images into a bag. There are in total 14196 images, thus there are 141 bags.\n",
    "# # Input: bag with shape [28, 28, 100]\n",
    "# # Label: ratio of '7' within the bag\n",
    "\n",
    "# X_li = []\n",
    "# y_li = []\n",
    "\n",
    "# for i in tqdm(range(math.floor(data.shape[0]/100))):\n",
    "#     temp = data.iloc[i*100:i*100+100, :]\n",
    "    \n",
    "# #     X_temp = temp.iloc[:, :-1]\n",
    "# #     row = []\n",
    "# #     for i in range(10):\n",
    "# #         col = []\n",
    "# #         for j in range(10):\n",
    "# #             col.append(X_temp.iloc[i*10+j, :].to_numpy().reshape(28,28))\n",
    "# #         row.append(np.hstack(col))\n",
    "    \n",
    "# #     X_temp = X_temp.to_numpy().reshape(100,28,28)\n",
    "# #     X_temp = np.vstack(row)\n",
    "\n",
    "#     X_temp = X_temp.reshape(100,28,28)\n",
    "    \n",
    "#     y_temp = len(temp[temp.iloc[:, -1]=='7'])/100\n",
    "    \n",
    "#     X_li.append(X_temp)\n",
    "#     y_li.append(y_temp)\n",
    "\n",
    "# X_bag = np.stack(X_li, axis=0)\n",
    "# y_bag = np.array(y_li)\n",
    "\n",
    "# print(\"X_bag shape: \", X_bag.shape)\n",
    "# print(\"y_bag shape: \", y_bag.shape)"
   ]
  },
  {
   "cell_type": "code",
   "execution_count": 126,
   "id": "832b4047",
   "metadata": {},
   "outputs": [
    {
     "data": {
      "image/png": "[encoded data removed]",
      "text/plain": [
       "<Figure size 432x288 with 1 Axes>"
      ]
     },
     "metadata": {
      "needs_background": "light"
     },
     "output_type": "display_data"
    }
   ],
   "source": [
    "# plot the distribution of labels\n",
    "plt.title(\"distribution of labels\")\n",
    "plt.hist(y_bag, bins=150)\n",
    "plt.show()"
   ]
  },
  {
   "cell_type": "markdown",
   "id": "568c31c8",
   "metadata": {},
   "source": [
    "# 2. Train-Val-Test"
   ]
  },
  {
   "cell_type": "code",
   "execution_count": 136,
   "id": "f4dfe5eb",
   "metadata": {},
   "outputs": [
    {
     "name": "stdout",
     "output_type": "stream",
     "text": [
      "X_train:  (70, 100, 28, 28) y_train:  (70,)\n",
      "X_val:  (13, 100, 28, 28) y_val:  (13,)\n",
      "X_test:  (15, 100, 28, 28) y_test:  (15,)\n"
     ]
    }
   ],
   "source": [
    "X_train_val, X_test, y_train_val, y_test = train_test_split(X_bag, y_bag, test_size=0.15, random_state=42)\n",
    "\n",
    "X_train, X_val, y_train, y_val = train_test_split(X_train_val, y_train_val, test_size=0.15, random_state=42)\n",
    "\n",
    "print(\"X_train: \", X_train.shape, \"y_train: \", y_train.shape)\n",
    "print(\"X_val: \", X_val.shape, \"y_val: \", y_val.shape)\n",
    "print(\"X_test: \", X_test.shape, \"y_test: \", y_test.shape)"
   ]
  },
  {
   "cell_type": "code",
   "execution_count": 140,
   "id": "198282a2",
   "metadata": {},
   "outputs": [
    {
     "data": {
      "text/plain": [
       "<matplotlib.image.AxesImage at 0x7f15a2ec9970>"
      ]
     },
     "execution_count": 140,
     "metadata": {},
     "output_type": "execute_result"
    },
    {
     "data": {
      "image/png": "[encoded data removed]",
      "text/plain": [
       "<Figure size 288x288 with 1 Axes>"
      ]
     },
     "metadata": {
      "needs_background": "light"
     },
     "output_type": "display_data"
    },
    {
     "data": {
      "image/png": "[encoded data removed]",
      "text/plain": [
       "<Figure size 288x288 with 1 Axes>"
      ]
     },
     "metadata": {
      "needs_background": "light"
     },
     "output_type": "display_data"
    }
   ],
   "source": [
    "plt.matshow(X_train[0][69])\n",
    "plt.matshow(X_train[0][70])"
   ]
  },
  {
   "cell_type": "markdown",
   "id": "e48294f0",
   "metadata": {},
   "source": [
    "# 3. Model Architecture"
   ]
  },
  {
   "cell_type": "code",
   "execution_count": 129,
   "id": "5eeca42d",
   "metadata": {},
   "outputs": [],
   "source": [
    "# ResNet\n",
    "\n",
    "def conv3x3(in_planes, out_planes, stride=1, groups=1, dilation=1):\n",
    "    \"\"\"3x3 convolution with padding\"\"\"\n",
    "    return nn.Conv2d(in_planes, out_planes, kernel_size=3, stride=stride,\n",
    "                     padding=dilation, groups=groups, bias=False, dilation=dilation)\n",
    "\n",
    "\n",
    "def conv1x1(in_planes, out_planes, stride=1):\n",
    "    \"\"\"1x1 convolution\"\"\"\n",
    "    return nn.Conv2d(in_planes, out_planes, kernel_size=1, stride=stride, bias=False)\n",
    "\n",
    "\n",
    "class BasicBlock(nn.Module):\n",
    "    expansion = 1\n",
    "    __constants__ = ['downsample']\n",
    "\n",
    "    def __init__(self, inplanes, planes, stride=1, downsample=None, groups=1,\n",
    "                 base_width=64, dilation=1, norm_layer=None):\n",
    "        super(BasicBlock, self).__init__()\n",
    "        if norm_layer is None:\n",
    "            norm_layer = nn.BatchNorm2d\n",
    "        if groups != 1 or base_width != 64:\n",
    "            raise ValueError('BasicBlock only supports groups=1 and base_width=64')\n",
    "        if dilation > 1:\n",
    "            raise NotImplementedError(\"Dilation > 1 not supported in BasicBlock\")\n",
    "        # Both self.conv1 and self.downsample layers downsample the input when stride != 1\n",
    "        self.conv1 = conv3x3(inplanes, planes, stride)\n",
    "        # self.bn1 = norm_layer(planes)\n",
    "        self.relu = nn.ReLU(inplace=True)\n",
    "        self.conv2 = conv3x3(planes, planes)\n",
    "        # self.bn2 = norm_layer(planes)\n",
    "        self.downsample = downsample\n",
    "        self.stride = stride\n",
    "\n",
    "    def forward(self, x):\n",
    "        identity = x\n",
    "\n",
    "        out = self.conv1(x)\n",
    "        # out = self.bn1(out)\n",
    "        out = self.relu(out)\n",
    "\n",
    "        out = self.conv2(out)\n",
    "        # out = self.bn2(out)\n",
    "\n",
    "        if self.downsample is not None:\n",
    "            identity = self.downsample(x)\n",
    "\n",
    "        out += identity\n",
    "        out = self.relu(out)\n",
    "\n",
    "        return out\n",
    "\n",
    "\n",
    "class Bottleneck(nn.Module):\n",
    "    expansion = 4\n",
    "    __constants__ = ['downsample']\n",
    "\n",
    "    def __init__(self, inplanes, planes, stride=1, downsample=None, groups=1,\n",
    "                 base_width=64, dilation=1, norm_layer=None):\n",
    "        super(Bottleneck, self).__init__()\n",
    "        if norm_layer is None:\n",
    "            norm_layer = nn.BatchNorm2d\n",
    "        width = int(planes * (base_width / 64.)) * groups\n",
    "        # Both self.conv2 and self.downsample layers downsample the input when stride != 1\n",
    "        self.conv1 = conv1x1(inplanes, width)\n",
    "        self.bn1 = norm_layer(width)\n",
    "        self.conv2 = conv3x3(width, width, stride, groups, dilation)\n",
    "        self.bn2 = norm_layer(width)\n",
    "        self.conv3 = conv1x1(width, planes * self.expansion)\n",
    "        self.bn3 = norm_layer(planes * self.expansion)\n",
    "        self.relu = nn.ReLU(inplace=True)\n",
    "        self.downsample = downsample\n",
    "        self.stride = stride\n",
    "\n",
    "    def forward(self, x):\n",
    "        identity = x\n",
    "\n",
    "        out = self.conv1(x)\n",
    "        out = self.bn1(out)\n",
    "        out = self.relu(out)\n",
    "\n",
    "        out = self.conv2(out)\n",
    "        out = self.bn2(out)\n",
    "        out = self.relu(out)\n",
    "\n",
    "        out = self.conv3(out)\n",
    "        out = self.bn3(out)\n",
    "\n",
    "        if self.downsample is not None:\n",
    "            identity = self.downsample(x)\n",
    "\n",
    "        out += identity\n",
    "        out = self.relu(out)\n",
    "\n",
    "        return out\n",
    "\n",
    "\n",
    "class ResNet(nn.Module):\n",
    "\n",
    "    def __init__(self, block, layers, num_classes=1000, zero_init_residual=False,\n",
    "                 groups=1, width_per_group=64, replace_stride_with_dilation=None,\n",
    "                 norm_layer=None):\n",
    "        super(ResNet, self).__init__()\n",
    "        if norm_layer is None:\n",
    "            norm_layer = nn.BatchNorm2d\n",
    "        self._norm_layer = norm_layer\n",
    "\n",
    "        self.inplanes = 64\n",
    "        self.dilation = 1\n",
    "        if replace_stride_with_dilation is None:\n",
    "            # each element in the tuple indicates if we should replace\n",
    "            # the 2x2 stride with a dilated convolution instead\n",
    "            replace_stride_with_dilation = [False, False, False]\n",
    "        if len(replace_stride_with_dilation) != 3:\n",
    "            raise ValueError(\"replace_stride_with_dilation should be None \"\n",
    "                             \"or a 3-element tuple, got {}\".format(replace_stride_with_dilation))\n",
    "        self.groups = groups\n",
    "        self.base_width = width_per_group\n",
    "        self.conv1 = nn.Conv2d(3, self.inplanes, kernel_size=7, stride=2, padding=3,\n",
    "                               bias=False)\n",
    "        # self.bn1 = norm_layer(self.inplanes)\n",
    "        self.relu = nn.ReLU(inplace=True)\n",
    "        self.maxpool = nn.MaxPool2d(kernel_size=3, stride=2, padding=1)\n",
    "        self.layer1 = self._make_layer(block, 64, layers[0])\n",
    "        self.layer2 = self._make_layer(block, 128, layers[1], stride=2,\n",
    "                                       dilate=replace_stride_with_dilation[0])\n",
    "        self.layer3 = self._make_layer(block, 256, layers[2], stride=2,\n",
    "                                       dilate=replace_stride_with_dilation[1])\n",
    "        self.layer4 = self._make_layer(block, 512, layers[3], stride=2,\n",
    "                                       dilate=replace_stride_with_dilation[2])\n",
    "        self.avgpool = nn.AdaptiveAvgPool2d((1, 1))\n",
    "        self.fc = nn.Linear(512 * block.expansion, num_classes)\n",
    "\n",
    "        for m in self.modules():\n",
    "            if isinstance(m, nn.Conv2d):\n",
    "                # nn.init.kaiming_normal_(m.weight, mode='fan_out', nonlinearity='relu')\n",
    "                nn.init.xavier_uniform_(m.weight)\n",
    "            elif isinstance(m, (nn.BatchNorm2d, nn.GroupNorm)):\n",
    "                nn.init.constant_(m.weight, 1)\n",
    "                nn.init.constant_(m.bias, 0)\n",
    "\n",
    "        # Zero-initialize the last BN in each residual branch,\n",
    "        # so that the residual branch starts with zeros, and each residual block behaves like an identity.\n",
    "        # This improves the model by 0.2~0.3% according to https://arxiv.org/abs/1706.02677\n",
    "        if zero_init_residual:\n",
    "            for m in self.modules():\n",
    "                if isinstance(m, Bottleneck):\n",
    "                    nn.init.constant_(m.bn3.weight, 0)\n",
    "                elif isinstance(m, BasicBlock):\n",
    "                    nn.init.constant_(m.bn2.weight, 0)\n",
    "\n",
    "    def _make_layer(self, block, planes, blocks, stride=1, dilate=False):\n",
    "        norm_layer = self._norm_layer\n",
    "        downsample = None\n",
    "        previous_dilation = self.dilation\n",
    "        if dilate:\n",
    "            self.dilation *= stride\n",
    "            stride = 1\n",
    "        if stride != 1 or self.inplanes != planes * block.expansion:\n",
    "            downsample = nn.Sequential(\n",
    "                conv1x1(self.inplanes, planes * block.expansion, stride),\n",
    "                # norm_layer(planes * block.expansion),\n",
    "            )\n",
    "\n",
    "        layers = []\n",
    "        layers.append(block(self.inplanes, planes, stride, downsample, self.groups,\n",
    "                            self.base_width, previous_dilation, norm_layer))\n",
    "        self.inplanes = planes * block.expansion\n",
    "        for _ in range(1, blocks):\n",
    "            layers.append(block(self.inplanes, planes, groups=self.groups,\n",
    "                                base_width=self.base_width, dilation=self.dilation,\n",
    "                                norm_layer=norm_layer))\n",
    "\n",
    "        return nn.Sequential(*layers)\n",
    "\n",
    "    def _forward_impl(self, x):\n",
    "        # See note [TorchScript super()]\n",
    "        x = self.conv1(x)\n",
    "        # x = self.bn1(x)\n",
    "        x = self.relu(x)\n",
    "        x = self.maxpool(x)\n",
    "\n",
    "        x = self.layer1(x)\n",
    "        x = self.layer2(x)\n",
    "        x = self.layer3(x)\n",
    "        x = self.layer4(x)\n",
    "\n",
    "        x = self.avgpool(x)\n",
    "        x = torch.flatten(x, 1)\n",
    "        x = self.fc(x)\n",
    "\n",
    "        return x\n",
    "\n",
    "    def forward(self, x):\n",
    "        return self._forward_impl(x)\n",
    "\n",
    "\n",
    "def _resnet(arch, block, layers, pretrained, progress, **kwargs):\n",
    "    model = ResNet(block, layers, **kwargs)\n",
    "    if pretrained:\n",
    "        state_dict = load_state_dict_from_url(model_urls[arch],\n",
    "                                              progress=progress)\n",
    "        model.load_state_dict(state_dict)\n",
    "    return model\n",
    "\n",
    "\n",
    "def resnet18(pretrained=False, progress=False, **kwargs):\n",
    "    r\"\"\"ResNet-18 model from\n",
    "    `\"Deep Residual Learning for Image Recognition\" <https://arxiv.org/pdf/1512.03385.pdf>`_\n",
    "    Args:\n",
    "        pretrained (bool): If True, returns a model pre-trained on ImageNet\n",
    "        progress (bool): If True, displays a progress bar of the download to stderr\n",
    "    \"\"\"\n",
    "    return _resnet('resnet18', BasicBlock, [2, 2, 2, 2], pretrained, progress,\n",
    "                   **kwargs)\n",
    "\n",
    "# Distribution Pooling Filter\n",
    "\n",
    "class DistributionPoolingFilter(nn.Module):\n",
    "    r\"\"\"Applies 'distribution' pooling as described in the paper\n",
    "    `Weakly Supervised Clustering by Exploiting Unique Class Count`_ .\n",
    "    We have a mini-batch of data Input: :math:`(B, N, J)`, where :math:`B` is number of bags, \n",
    "    :math:`N` is number of instances \n",
    "    in a bag, :math:`J` is number of extracted features from each instance in a bag.\n",
    "    Given a bag :math:`X` with :math:`N` instances in the mini-batch, \n",
    "    for each instance :math:`x_i \\in X`, we have :math:`J` extracted features \n",
    "    :math:`[f_{x_i}^j | f_{x_i}^j \\in \\mathbb{R}, j=1,2, \\cdots, J] =\\mathbf{f}_{x_i} \\in \\mathbb{R}^J`.\n",
    "    Let :math:`\\tilde{p}^j_{X}(v)` be the estimated marginal distribution of :math:`j^{th}` feature.\n",
    "    Estimated marginal distribution :math:`\\tilde{p}^j_{X}(v)` is obtained by using kernel \n",
    "    density estimation, which employs a Gaussian kernel with standard deviation :math:`\\sigma`:\n",
    "    .. math::\n",
    "        \\tilde{p}^j_{X}(v) = \\frac{1}{N} \\sum_{i=1}^{N}\\frac{1}{\\sqrt{2\\pi{\\sigma}^2}} e^{-\\frac{1}{2{\\sigma}^2} \\left(v- f_{x_i}^{j}\\right)^2} \\ \\forall_{j=1,2,\\cdots,J}\n",
    "    Then, the estimated marginal distribution :math:`\\tilde{p}^j_{X}(v)` is sampled with :math:`M` bins:\n",
    "    .. math::\n",
    "        h^j_{X} = \\left[ \\tilde{p}^j_{X}(v=v_b) \\ | \\ v_b=\\frac{b}{M-1} \\text{ and } b=0,1,\\cdots,M-1 \\right] \\ \\forall_{j=1,2,\\cdots,J}  \\text{ where } h^j_{X} \\in \\mathbb{R}^M\n",
    "    .. note::\n",
    "        Sampling of the estimated distribution is done in the interval of :math:`[0,1]`. Hence, \n",
    "        for proper operation Input should be in the interval of :math:`[0,1]`.\n",
    "    Bag level representation:\n",
    "    .. math::\n",
    "        \\mathbf{h}_{X} = [h^j_{X} \\ | \\ h^j_{X} \\in \\mathbb{R}^M, j=1,2,\\cdots,J] \\in \\mathbb{R}^{MJ}\n",
    "    Finally, Output: :math:`(B, J, M)` consists of bag level representations of the bags in mini-batch.\n",
    "    Args:\n",
    "        num_bins: :math:`M`, number of bins to sample estimated marginal distributions.\n",
    "            Default: 21\n",
    "        sigma: :math:`\\sigma`, standard deviation of Gaussian kernel.\n",
    "            Default: 0.0167\n",
    "    Shape:\n",
    "        - Input: :math:`(B, N, J)`\n",
    "        - Output: :math:`(B, J, M)`\n",
    "    Examples::\n",
    "        >>> input = torch.normal(0.5, 0.1, (1,200,1))\n",
    "        >>> print(input.size())\n",
    "        torch.Size([1, 200, 1])\n",
    "        >>> m = DistributionPoolingFilter(21,0.0167)\n",
    "        >>> output = m(input)\n",
    "        >>> print(output.size())\n",
    "        torch.Size([1, 1, 21])\n",
    "        >>> print(output)\n",
    "        tensor([[[7.7092e-36, 8.8147e-22, 1.2893e-11, 2.4122e-05, 5.8514e-03,\n",
    "                  1.9012e-02, 3.0407e-02, 6.2145e-02, 1.1265e-01, 1.6227e-01,\n",
    "                  1.9503e-01, 1.8669e-01, 1.1016e-01, 7.9186e-02, 2.5840e-02,\n",
    "                  1.0619e-02, 1.0948e-04, 2.4347e-10, 7.0687e-20, 2.6271e-33,\n",
    "                  0.0000e+00]]])\n",
    "    .. _`Weakly Supervised Clustering by Exploiting Unique Class Count`:\n",
    "        https://arxiv.org/abs/1906.07647\n",
    "    \"\"\"\n",
    "\n",
    "\n",
    "    __constants__ = ['num_bins', 'sigma']\n",
    "\n",
    "    def __init__(self, num_bins=21, sigma=0.0167):\n",
    "        super(DistributionPoolingFilter, self).__init__()\n",
    "\n",
    "        self.num_bins = num_bins\n",
    "        self.sigma = sigma\n",
    "        self.alfa = 1/math.sqrt(2*math.pi*(sigma**2))\n",
    "        self.beta = -1/(2*(sigma**2))\n",
    "\n",
    "        sample_points = torch.linspace(0,1,steps=num_bins, dtype=torch.float32, requires_grad=False)\n",
    "        self.register_buffer('sample_points', sample_points)\n",
    "\n",
    "\n",
    "    def extra_repr(self):\n",
    "        return 'num_bins={}, sigma={}'.format(\n",
    "            self.num_bins, self.sigma\n",
    "        )\n",
    "\n",
    "\n",
    "    def forward(self, data):\n",
    "        batch_size, num_instances, num_features = data.size()\n",
    "\n",
    "        sample_points = self.sample_points.repeat(batch_size,num_instances,num_features,1)\n",
    "        # sample_points.size() --> (batch_size,num_instances,num_features,num_bins)\n",
    "\n",
    "        data = torch.reshape(data,(batch_size,num_instances,num_features,1))\n",
    "        # data.size() --> (batch_size,num_instances,num_features,1)\n",
    "\n",
    "        diff = sample_points - data.repeat(1,1,1,self.num_bins)\n",
    "        diff_2 = diff**2\n",
    "        # diff_2.size() --> (batch_size,num_instances,num_features,num_bins)\n",
    "\n",
    "        result = self.alfa * torch.exp(self.beta*diff_2)\n",
    "        # result.size() --> (batch_size,num_instances,num_features,num_bins)\n",
    "\n",
    "        out_unnormalized = torch.sum(result,dim=1)\n",
    "        # out_unnormalized.size() --> (batch_size,num_features,num_bins)\n",
    "\n",
    "        norm_coeff = torch.sum(out_unnormalized, dim=2, keepdim=True)\n",
    "        # norm_coeff.size() --> (batch_size,num_features,1)\n",
    "\n",
    "        out = out_unnormalized / norm_coeff\n",
    "        # out.size() --> (batch_size,num_features,num_bins)\n",
    "        \n",
    "        return out\n",
    "\n",
    "class FeatureExtractor(nn.Module):\n",
    "\n",
    "    def __init__(self, num_features=32):\n",
    "        super(FeatureExtractor, self).__init__()\n",
    "\n",
    "        self._model_conv = resnet18()\n",
    "        \n",
    "        num_ftrs = self._model_conv.fc.in_features\n",
    "        self._model_conv.fc = nn.Linear(num_ftrs, num_features)\n",
    "        # print(self._model_conv)\n",
    "\n",
    "        # self.sigmoid = nn.Sigmoid()\n",
    "        self.relu = nn.ReLU()\n",
    "\n",
    "    def forward(self, x):\n",
    "        out = self._model_conv(x)\n",
    "        # out = self.sigmoid(out)\n",
    "        out = self.relu(out)\n",
    "        # out = torch.clamp(out, min=0., max=1.)\n",
    "\n",
    "        return out\n",
    "\n",
    "class RepresentationTransformation(nn.Module):\n",
    "    def __init__(self, num_features=32, num_bins=11, num_classes=10):\n",
    "        super(RepresentationTransformation, self).__init__()\n",
    "\n",
    "        self.fc = nn.Sequential(\n",
    "            nn.Dropout(0.5),\n",
    "            nn.Linear(num_features * num_bins, 384),\n",
    "            nn.ReLU(),\n",
    "            nn.Dropout(0.5),\n",
    "            nn.Linear(384, 192),\n",
    "            nn.ReLU(),\n",
    "            nn.Dropout(0.5),\n",
    "            nn.Linear(192, num_classes)\n",
    "            )\n",
    "\n",
    "    def forward(self, x):\n",
    "\n",
    "        out = self.fc(x)\n",
    "\n",
    "        return out\n",
    "\n",
    "# Model\n",
    "    \n",
    "class Model(nn.Module):\n",
    "\n",
    "    def __init__(self, num_classes=10, num_instances=32, num_features=32, num_bins=11, sigma=0.1):\n",
    "        super(Model, self).__init__()\n",
    "        self._num_classes = num_classes\n",
    "        self._num_instances = num_instances\n",
    "        self._num_features = num_features\n",
    "        self._num_bins = num_bins\n",
    "        self._sigma = sigma\n",
    "\n",
    "        # feature extractor module\n",
    "        self._feature_extractor = FeatureExtractor(num_features=num_features)\n",
    "\n",
    "        # MIL pooling filter\n",
    "        self._mil_pooling_filter = DistributionPoolingFilter(num_bins=num_bins, sigma=sigma)\n",
    "\n",
    "        # bag-level representation transformation module\n",
    "        self._representation_transformation = RepresentationTransformation(num_features=num_features, num_bins=num_bins, num_classes=num_classes)\n",
    "\n",
    "\n",
    "    def forward(self, x):\n",
    "\n",
    "        out = self._feature_extractor(x)\n",
    "#         print(out.shape, out)\n",
    "        out = torch.reshape(out,(-1,self._num_instances,self._num_features))\n",
    "        \n",
    "#         print(out.shape, out)\n",
    "\n",
    "        out = self._mil_pooling_filter(out)\n",
    "#         print(out.shape, out)\n",
    "        out = torch.flatten(out, 1)\n",
    "\n",
    "#         print(out.shape, out)\n",
    "        \n",
    "        out = self._representation_transformation(out)\n",
    "\n",
    "        return out"
   ]
  },
  {
   "cell_type": "markdown",
   "id": "7ede555d",
   "metadata": {},
   "source": [
    "# 4. Training"
   ]
  },
  {
   "cell_type": "code",
   "execution_count": 130,
   "id": "de5359cf",
   "metadata": {},
   "outputs": [],
   "source": [
    "class myDataset(torch.utils.data.Dataset):\n",
    "    def __init__(self, data, label):\n",
    "        self.data = torch.from_numpy(data)\n",
    "        self.label = torch.from_numpy(label)\n",
    "    \n",
    "    def __getitem__(self, index):\n",
    "        X, y = self.data[index], self.label[index]\n",
    "        return X, y\n",
    "    \n",
    "    def __len__(self):\n",
    "        return len(self.data)"
   ]
  },
  {
   "cell_type": "code",
   "execution_count": 131,
   "id": "db5f4ca9",
   "metadata": {},
   "outputs": [],
   "source": [
    "batch_size = 1\n",
    "\n",
    "train = myDataset(X_train, y_train)\n",
    "val = myDataset(X_val, y_val)\n",
    "\n",
    "train_loader = torch.utils.data.DataLoader(dataset = train, batch_size = batch_size)\n",
    "val_loader = torch.utils.data.DataLoader(dataset = val, batch_size = batch_size)"
   ]
  },
  {
   "cell_type": "code",
   "execution_count": 132,
   "id": "55019ef4",
   "metadata": {},
   "outputs": [
    {
     "name": "stderr",
     "output_type": "stream",
     "text": [
      "100%|██████████| 70/70 [00:04<00:00, 16.79it/s]\n"
     ]
    },
    {
     "name": "stdout",
     "output_type": "stream",
     "text": [
      "Epoch: 0, loss: 0.3368067145347595, val_loss: 0.34097466789759123, lr: 3e-05\n"
     ]
    },
    {
     "name": "stderr",
     "output_type": "stream",
     "text": [
      "100%|██████████| 70/70 [00:04<00:00, 17.04it/s]\n"
     ]
    },
    {
     "name": "stdout",
     "output_type": "stream",
     "text": [
      "Epoch: 1, loss: 0.19007918238639832, val_loss: 0.18783118747747862, lr: 3e-05\n"
     ]
    },
    {
     "name": "stderr",
     "output_type": "stream",
     "text": [
      "100%|██████████| 70/70 [00:04<00:00, 16.27it/s]\n"
     ]
    },
    {
     "name": "stdout",
     "output_type": "stream",
     "text": [
      "Epoch: 2, loss: 0.06831084936857224, val_loss: 0.06695873347612527, lr: 3e-05\n"
     ]
    },
    {
     "name": "stderr",
     "output_type": "stream",
     "text": [
      "100%|██████████| 70/70 [00:04<00:00, 17.42it/s]\n"
     ]
    },
    {
     "name": "stdout",
     "output_type": "stream",
     "text": [
      "Epoch: 3, loss: 0.00909060426056385, val_loss: 0.008667233614967419, lr: 3e-05\n"
     ]
    },
    {
     "name": "stderr",
     "output_type": "stream",
     "text": [
      "100%|██████████| 70/70 [00:04<00:00, 17.48it/s]\n"
     ]
    },
    {
     "name": "stdout",
     "output_type": "stream",
     "text": [
      "Epoch: 4, loss: 3.912391548510641e-07, val_loss: 1.2158664065308446e-07, lr: 3e-05\n"
     ]
    },
    {
     "name": "stderr",
     "output_type": "stream",
     "text": [
      "100%|██████████| 70/70 [00:03<00:00, 18.06it/s]\n"
     ]
    },
    {
     "name": "stdout",
     "output_type": "stream",
     "text": [
      "Epoch: 5, loss: 8.273119078694435e-09, val_loss: 1.3428221679900022e-07, lr: 3e-05\n"
     ]
    },
    {
     "name": "stderr",
     "output_type": "stream",
     "text": [
      "100%|██████████| 70/70 [00:04<00:00, 15.82it/s]\n"
     ]
    },
    {
     "name": "stdout",
     "output_type": "stream",
     "text": [
      "Epoch: 6, loss: 1.3970296919296743e-08, val_loss: 1.3632864765283486e-07, lr: 3e-05\n"
     ]
    },
    {
     "name": "stderr",
     "output_type": "stream",
     "text": [
      "100%|██████████| 70/70 [00:03<00:00, 17.94it/s]\n"
     ]
    },
    {
     "name": "stdout",
     "output_type": "stream",
     "text": [
      "Epoch: 7, loss: 1.574216312860699e-08, val_loss: 1.3611381751624882e-07, lr: 3e-05\n"
     ]
    },
    {
     "name": "stderr",
     "output_type": "stream",
     "text": [
      "100%|██████████| 70/70 [00:04<00:00, 16.90it/s]\n"
     ]
    },
    {
     "name": "stdout",
     "output_type": "stream",
     "text": [
      "Epoch: 8, loss: 1.6791105394986516e-08, val_loss: 1.3425345375577098e-07, lr: 3e-05\n"
     ]
    },
    {
     "name": "stderr",
     "output_type": "stream",
     "text": [
      "100%|██████████| 70/70 [00:04<00:00, 17.37it/s]\n"
     ]
    },
    {
     "name": "stdout",
     "output_type": "stream",
     "text": [
      "Epoch: 9, loss: 1.7461903922821875e-08, val_loss: 1.3139913198537775e-07, lr: 3e-05\n"
     ]
    },
    {
     "name": "stderr",
     "output_type": "stream",
     "text": [
      "100%|██████████| 70/70 [00:03<00:00, 18.30it/s]\n"
     ]
    },
    {
     "name": "stdout",
     "output_type": "stream",
     "text": [
      "Epoch: 10, loss: 1.78420158647441e-08, val_loss: 1.2791373840479116e-07, lr: 3e-05\n"
     ]
    },
    {
     "name": "stderr",
     "output_type": "stream",
     "text": [
      "100%|██████████| 70/70 [00:04<00:00, 15.97it/s]\n"
     ]
    },
    {
     "name": "stdout",
     "output_type": "stream",
     "text": [
      "Epoch: 11, loss: 1.8049618688564806e-08, val_loss: 1.2412971546364832e-07, lr: 3e-05\n"
     ]
    },
    {
     "name": "stderr",
     "output_type": "stream",
     "text": [
      "100%|██████████| 70/70 [00:04<00:00, 15.24it/s]\n"
     ]
    },
    {
     "name": "stdout",
     "output_type": "stream",
     "text": [
      "Epoch: 12, loss: 1.8097697562780013e-08, val_loss: 1.2009499746804627e-07, lr: 3e-05\n"
     ]
    },
    {
     "name": "stderr",
     "output_type": "stream",
     "text": [
      "100%|██████████| 70/70 [00:04<00:00, 17.02it/s]\n"
     ]
    },
    {
     "name": "stdout",
     "output_type": "stream",
     "text": [
      "Epoch: 13, loss: 1.8065637874542517e-08, val_loss: 1.1608573821866649e-07, lr: 3e-05\n"
     ]
    },
    {
     "name": "stderr",
     "output_type": "stream",
     "text": [
      "100%|██████████| 70/70 [00:04<00:00, 16.22it/s]\n"
     ]
    },
    {
     "name": "stdout",
     "output_type": "stream",
     "text": [
      "Epoch: 14, loss: 1.812978567272694e-08, val_loss: 1.1210365312964453e-07, lr: 3e-05\n"
     ]
    }
   ],
   "source": [
    "device = torch.device(\"cuda\" if torch.cuda.is_available() else \"cpu\")\n",
    "model = Model(num_classes=1, num_instances=100, num_features=28, num_bins=10, sigma=0.1).to(device)\n",
    "criterion = nn.MSELoss()\n",
    "optimizer = optim.Adam(params=model.parameters(), lr=3e-5)\n",
    "\n",
    "model.train()\n",
    "epochs = 15\n",
    "\n",
    "history_train_loss = []\n",
    "history_val_loss = []\n",
    "\n",
    "for epoch in range(epochs):\n",
    "    \"\"\"training\"\"\"\n",
    "    for data in tqdm(train_loader):\n",
    "        X, y = data\n",
    "        X = X.squeeze(0)\n",
    "        X = torch.stack((X, X, X), 1)\n",
    "        \n",
    "        X, y = Variable(X), Variable(y)\n",
    "        X, y = X.to(torch.float32), y.to(torch.float32)\n",
    "        X, y = X.to(device), y.to(device)\n",
    "        optimizer.zero_grad()\n",
    "        y_pred = model(X)\n",
    "        loss = criterion(y_pred.view(-1), y.view(-1))\n",
    "        loss.backward()\n",
    "        optimizer.step()\n",
    "    \n",
    "    \"\"\"validating\"\"\"\n",
    "    model.eval()\n",
    "    val_loss = 0\n",
    "    for data, target in val_loader:\n",
    "        with torch.no_grad():\n",
    "            data = data.squeeze(0)\n",
    "            data = torch.stack((data, data, data), 1)\n",
    "            data, target = Variable(data),Variable(target)\n",
    "            data, target = data.to(device).to(torch.float32), target.to(device).to(torch.float32)\n",
    "            output = model(data)\n",
    "        val_loss += criterion(output.view(-1), target.view(-1)).data.item()\n",
    "    val_loss /= len(val_loader)\n",
    "    \n",
    "    \n",
    "    print('Epoch: {}, loss: {}, val_loss: {}, lr: {}'.format(epoch, loss, val_loss, optimizer.param_groups[0]['lr']))\n",
    "    history_train_loss.append(loss.data.item())\n",
    "    history_val_loss.append(val_loss)"
   ]
  },
  {
   "cell_type": "code",
   "execution_count": 133,
   "id": "17385edc",
   "metadata": {},
   "outputs": [
    {
     "name": "stdout",
     "output_type": "stream",
     "text": [
      "MAE on val set:  0.00033481883628261495\n"
     ]
    }
   ],
   "source": [
    "print(\"MAE on val set: \", math.sqrt(val_loss))"
   ]
  },
  {
   "cell_type": "code",
   "execution_count": 134,
   "id": "6cc07fdb",
   "metadata": {},
   "outputs": [
    {
     "data": {
      "image/png": "[encoded data removed]",
      "text/plain": [
       "<Figure size 432x288 with 1 Axes>"
      ]
     },
     "metadata": {
      "needs_background": "light"
     },
     "output_type": "display_data"
    }
   ],
   "source": [
    "plt.title(\"loss curve\")\n",
    "plt.plot(np.arange(epochs), history_train_loss)\n",
    "plt.plot(np.arange(epochs), history_val_loss)\n",
    "plt.legend(['train loss','val loss'])\n",
    "plt.show()"
   ]
  },
  {
   "cell_type": "markdown",
   "id": "d8198719",
   "metadata": {},
   "source": [
    "# 5. Testing"
   ]
  },
  {
   "cell_type": "code",
   "execution_count": 135,
   "id": "bd0ede11",
   "metadata": {},
   "outputs": [
    {
     "name": "stderr",
     "output_type": "stream",
     "text": [
      "100%|██████████| 15/15 [00:00<00:00, 25.67it/s]"
     ]
    },
    {
     "name": "stdout",
     "output_type": "stream",
     "text": [
      "MAE: 0.00012845198313395182, MSE: 3.203978072482035e-08, RMSE: 0.00017899659417100749\n"
     ]
    },
    {
     "name": "stderr",
     "output_type": "stream",
     "text": [
      "\n"
     ]
    }
   ],
   "source": [
    "test = myDataset(X_test, y_test)\n",
    "test_loader = torch.utils.data.DataLoader(dataset = test, batch_size = batch_size)\n",
    "\n",
    "criterion_MAE = nn.L1Loss()\n",
    "criterion_MSE = nn.MSELoss()\n",
    "\n",
    "test_loss_MAE = 0\n",
    "test_loss_MSE = 0\n",
    "\n",
    "pred = []\n",
    "y_true = []\n",
    "\n",
    "for data, target in tqdm(test_loader):\n",
    "    with torch.no_grad():\n",
    "        data = data.squeeze(0)\n",
    "        data = torch.stack((data, data, data), 1)\n",
    "        data, target = Variable(data),Variable(target)\n",
    "        data, target = data.to(device).to(torch.float32), target.to(device).to(torch.float32)\n",
    "        output = model(data)\n",
    "        pred.append(output.view(-1))\n",
    "        y_true.append(target.cpu().numpy())\n",
    "    test_loss_MAE += criterion_MAE(output.view(-1), target.view(-1)).data.item()\n",
    "    test_loss_MSE += criterion_MSE(output.view(-1), target.view(-1)).data.item()\n",
    "test_loss_MAE /= len(test_loader)\n",
    "test_loss_MSE /= len(test_loader)\n",
    "\n",
    "print('MAE: {}, MSE: {}, RMSE: {}'.format(test_loss_MAE, test_loss_MSE, math.sqrt(test_loss_MSE)))"
   ]
  },
  {
   "cell_type": "markdown",
   "id": "2c7a9867",
   "metadata": {},
   "source": [
    "# 6. Result Analysis"
   ]
  },
  {
   "cell_type": "code",
   "execution_count": 153,
   "id": "526ea906",
   "metadata": {},
   "outputs": [
    {
     "name": "stdout",
     "output_type": "stream",
     "text": [
      "true:[0.7], pred:[[0.69997424]]\n"
     ]
    },
    {
     "data": {
      "image/png": "[encoded data removed]",
      "text/plain": [
       "<Figure size 288x288 with 1 Axes>"
      ]
     },
     "metadata": {
      "needs_background": "light"
     },
     "output_type": "display_data"
    }
   ],
   "source": [
    "for data, target in test_loader:\n",
    "    with torch.no_grad():\n",
    "        data = data.squeeze(0)\n",
    "        data = torch.stack((data, data, data), 1)\n",
    "        data, target = Variable(data),Variable(target)\n",
    "        data, target = data.to(device).to(torch.float32), target.to(device).to(torch.float32)\n",
    "        output = model(data)\n",
    "        print(\"true:{}, pred:{}\".format(target.cpu().numpy(), output.cpu().numpy()))\n",
    "        \n",
    "        plt.matshow(data[0][0].cpu())\n",
    "        plt.show()\n",
    "        break"
   ]
  },
  {
   "cell_type": "code",
   "execution_count": 61,
   "id": "7d1766a0",
   "metadata": {},
   "outputs": [
    {
     "data": {
      "text/plain": [
       "(15, 100, 28, 28)"
      ]
     },
     "execution_count": 61,
     "metadata": {},
     "output_type": "execute_result"
    }
   ],
   "source": [
    "X_test.shape"
   ]
  },
  {
   "cell_type": "code",
   "execution_count": 83,
   "id": "61fa8d2d",
   "metadata": {},
   "outputs": [],
   "source": [
    "def result_analysis(test_loader, is_tumor):\n",
    "    \n",
    "#     data_0 = data[data[\"class\"]=='0']\n",
    "#     data_7 = data[data[\"class\"]=='7']\n",
    "\n",
    "    X_li_0 = []\n",
    "    y_li_0 = []\n",
    "    \n",
    "    X_li_7 = []\n",
    "    y_li_7 = []\n",
    "\n",
    "    for i in tqdm(range(math.floor(data_0.shape[0]/100))):\n",
    "        tmp1 = data_0.sample(n=100)\n",
    "        tmp2 = data_7.sample(n=100)\n",
    "\n",
    "        X_li_0.append(tmp1.iloc[:,:-1].to_numpy().reshape(100,28,28))\n",
    "        y_li_0.append(1)\n",
    "        \n",
    "        X_li_7.append(tmp2.iloc[:,:-1].to_numpy().reshape(100,28,28))\n",
    "        y_li_7.append(0)\n",
    "\n",
    "    X_bag_0 = np.stack(X_li_0, axis=0)\n",
    "    y_bag_0 = np.array(y_li_0)\n",
    "    \n",
    "    X_bag_7 = np.stack(X_li_7, axis=0)\n",
    "    y_bag_7 = np.array(y_li_7)\n",
    "\n",
    "    print(X_bag_0.shape, y_bag_0.shape)\n",
    "    print(X_bag_7.shape, y_bag_7.shape)\n",
    "    \n",
    "    for i in range(69):\n",
    "        data = torch.tensor(X_bag_7[i]).squeeze(0)\n",
    "        data = torch.stack((data, data, data), 1)\n",
    "        data = Variable(data)\n",
    "        data = data.to(device).to(torch.float32)\n",
    "        output = model(data)\n",
    "        print(\"pred:{}, true:{}\".format(output, target))\n",
    "    "
   ]
  },
  {
   "cell_type": "code",
   "execution_count": 84,
   "id": "d3f37e69",
   "metadata": {},
   "outputs": [
    {
     "name": "stderr",
     "output_type": "stream",
     "text": [
      "100%|██████████| 69/69 [00:00<00:00, 211.89it/s]\n"
     ]
    },
    {
     "name": "stdout",
     "output_type": "stream",
     "text": [
      "(69, 100, 28, 28) (69,)\n",
      "(69, 100, 28, 28) (69,)\n",
      "pred:tensor([[0.7000]], device='cuda:0', grad_fn=<AddmmBackward>), true:tensor([0.7000], device='cuda:0')\n",
      "pred:tensor([[0.7000]], device='cuda:0', grad_fn=<AddmmBackward>), true:tensor([0.7000], device='cuda:0')\n",
      "pred:tensor([[0.7000]], device='cuda:0', grad_fn=<AddmmBackward>), true:tensor([0.7000], device='cuda:0')\n",
      "pred:tensor([[0.7000]], device='cuda:0', grad_fn=<AddmmBackward>), true:tensor([0.7000], device='cuda:0')\n",
      "pred:tensor([[0.7000]], device='cuda:0', grad_fn=<AddmmBackward>), true:tensor([0.7000], device='cuda:0')\n",
      "pred:tensor([[0.7000]], device='cuda:0', grad_fn=<AddmmBackward>), true:tensor([0.7000], device='cuda:0')\n",
      "pred:tensor([[0.7000]], device='cuda:0', grad_fn=<AddmmBackward>), true:tensor([0.7000], device='cuda:0')\n",
      "pred:tensor([[0.7000]], device='cuda:0', grad_fn=<AddmmBackward>), true:tensor([0.7000], device='cuda:0')\n",
      "pred:tensor([[0.7000]], device='cuda:0', grad_fn=<AddmmBackward>), true:tensor([0.7000], device='cuda:0')\n",
      "pred:tensor([[0.7000]], device='cuda:0', grad_fn=<AddmmBackward>), true:tensor([0.7000], device='cuda:0')\n",
      "pred:tensor([[0.7000]], device='cuda:0', grad_fn=<AddmmBackward>), true:tensor([0.7000], device='cuda:0')\n",
      "pred:tensor([[0.7000]], device='cuda:0', grad_fn=<AddmmBackward>), true:tensor([0.7000], device='cuda:0')\n",
      "pred:tensor([[0.7000]], device='cuda:0', grad_fn=<AddmmBackward>), true:tensor([0.7000], device='cuda:0')\n",
      "pred:tensor([[0.7000]], device='cuda:0', grad_fn=<AddmmBackward>), true:tensor([0.7000], device='cuda:0')\n",
      "pred:tensor([[0.7000]], device='cuda:0', grad_fn=<AddmmBackward>), true:tensor([0.7000], device='cuda:0')\n",
      "pred:tensor([[0.7000]], device='cuda:0', grad_fn=<AddmmBackward>), true:tensor([0.7000], device='cuda:0')\n",
      "pred:tensor([[0.7000]], device='cuda:0', grad_fn=<AddmmBackward>), true:tensor([0.7000], device='cuda:0')\n",
      "pred:tensor([[0.7000]], device='cuda:0', grad_fn=<AddmmBackward>), true:tensor([0.7000], device='cuda:0')\n",
      "pred:tensor([[0.7000]], device='cuda:0', grad_fn=<AddmmBackward>), true:tensor([0.7000], device='cuda:0')\n",
      "pred:tensor([[0.7000]], device='cuda:0', grad_fn=<AddmmBackward>), true:tensor([0.7000], device='cuda:0')\n",
      "pred:tensor([[0.7000]], device='cuda:0', grad_fn=<AddmmBackward>), true:tensor([0.7000], device='cuda:0')\n",
      "pred:tensor([[0.7000]], device='cuda:0', grad_fn=<AddmmBackward>), true:tensor([0.7000], device='cuda:0')\n",
      "pred:tensor([[0.7000]], device='cuda:0', grad_fn=<AddmmBackward>), true:tensor([0.7000], device='cuda:0')\n",
      "pred:tensor([[0.7000]], device='cuda:0', grad_fn=<AddmmBackward>), true:tensor([0.7000], device='cuda:0')\n",
      "pred:tensor([[0.7000]], device='cuda:0', grad_fn=<AddmmBackward>), true:tensor([0.7000], device='cuda:0')\n",
      "pred:tensor([[0.7000]], device='cuda:0', grad_fn=<AddmmBackward>), true:tensor([0.7000], device='cuda:0')\n",
      "pred:tensor([[0.7000]], device='cuda:0', grad_fn=<AddmmBackward>), true:tensor([0.7000], device='cuda:0')\n",
      "pred:tensor([[0.7000]], device='cuda:0', grad_fn=<AddmmBackward>), true:tensor([0.7000], device='cuda:0')\n",
      "pred:tensor([[0.7000]], device='cuda:0', grad_fn=<AddmmBackward>), true:tensor([0.7000], device='cuda:0')\n",
      "pred:tensor([[0.7000]], device='cuda:0', grad_fn=<AddmmBackward>), true:tensor([0.7000], device='cuda:0')\n",
      "pred:tensor([[0.7000]], device='cuda:0', grad_fn=<AddmmBackward>), true:tensor([0.7000], device='cuda:0')\n",
      "pred:tensor([[0.7000]], device='cuda:0', grad_fn=<AddmmBackward>), true:tensor([0.7000], device='cuda:0')\n",
      "pred:tensor([[0.7000]], device='cuda:0', grad_fn=<AddmmBackward>), true:tensor([0.7000], device='cuda:0')\n",
      "pred:tensor([[0.7000]], device='cuda:0', grad_fn=<AddmmBackward>), true:tensor([0.7000], device='cuda:0')\n",
      "pred:tensor([[0.7000]], device='cuda:0', grad_fn=<AddmmBackward>), true:tensor([0.7000], device='cuda:0')\n",
      "pred:tensor([[0.7000]], device='cuda:0', grad_fn=<AddmmBackward>), true:tensor([0.7000], device='cuda:0')\n",
      "pred:tensor([[0.7000]], device='cuda:0', grad_fn=<AddmmBackward>), true:tensor([0.7000], device='cuda:0')\n",
      "pred:tensor([[0.7000]], device='cuda:0', grad_fn=<AddmmBackward>), true:tensor([0.7000], device='cuda:0')\n",
      "pred:tensor([[0.7000]], device='cuda:0', grad_fn=<AddmmBackward>), true:tensor([0.7000], device='cuda:0')\n",
      "pred:tensor([[0.7000]], device='cuda:0', grad_fn=<AddmmBackward>), true:tensor([0.7000], device='cuda:0')\n",
      "pred:tensor([[0.7000]], device='cuda:0', grad_fn=<AddmmBackward>), true:tensor([0.7000], device='cuda:0')\n",
      "pred:tensor([[0.7000]], device='cuda:0', grad_fn=<AddmmBackward>), true:tensor([0.7000], device='cuda:0')\n",
      "pred:tensor([[0.7000]], device='cuda:0', grad_fn=<AddmmBackward>), true:tensor([0.7000], device='cuda:0')\n",
      "pred:tensor([[0.7000]], device='cuda:0', grad_fn=<AddmmBackward>), true:tensor([0.7000], device='cuda:0')\n",
      "pred:tensor([[0.7000]], device='cuda:0', grad_fn=<AddmmBackward>), true:tensor([0.7000], device='cuda:0')\n",
      "pred:tensor([[0.7000]], device='cuda:0', grad_fn=<AddmmBackward>), true:tensor([0.7000], device='cuda:0')\n",
      "pred:tensor([[0.7000]], device='cuda:0', grad_fn=<AddmmBackward>), true:tensor([0.7000], device='cuda:0')\n",
      "pred:tensor([[0.7000]], device='cuda:0', grad_fn=<AddmmBackward>), true:tensor([0.7000], device='cuda:0')\n",
      "pred:tensor([[0.7000]], device='cuda:0', grad_fn=<AddmmBackward>), true:tensor([0.7000], device='cuda:0')\n",
      "pred:tensor([[0.7000]], device='cuda:0', grad_fn=<AddmmBackward>), true:tensor([0.7000], device='cuda:0')\n",
      "pred:tensor([[0.7000]], device='cuda:0', grad_fn=<AddmmBackward>), true:tensor([0.7000], device='cuda:0')\n",
      "pred:tensor([[0.7000]], device='cuda:0', grad_fn=<AddmmBackward>), true:tensor([0.7000], device='cuda:0')\n",
      "pred:tensor([[0.7000]], device='cuda:0', grad_fn=<AddmmBackward>), true:tensor([0.7000], device='cuda:0')\n",
      "pred:tensor([[0.7000]], device='cuda:0', grad_fn=<AddmmBackward>), true:tensor([0.7000], device='cuda:0')\n",
      "pred:tensor([[0.7000]], device='cuda:0', grad_fn=<AddmmBackward>), true:tensor([0.7000], device='cuda:0')\n",
      "pred:tensor([[0.7000]], device='cuda:0', grad_fn=<AddmmBackward>), true:tensor([0.7000], device='cuda:0')\n",
      "pred:tensor([[0.7000]], device='cuda:0', grad_fn=<AddmmBackward>), true:tensor([0.7000], device='cuda:0')\n",
      "pred:tensor([[0.7000]], device='cuda:0', grad_fn=<AddmmBackward>), true:tensor([0.7000], device='cuda:0')\n",
      "pred:tensor([[0.7000]], device='cuda:0', grad_fn=<AddmmBackward>), true:tensor([0.7000], device='cuda:0')\n",
      "pred:tensor([[0.7000]], device='cuda:0', grad_fn=<AddmmBackward>), true:tensor([0.7000], device='cuda:0')\n",
      "pred:tensor([[0.7000]], device='cuda:0', grad_fn=<AddmmBackward>), true:tensor([0.7000], device='cuda:0')\n",
      "pred:tensor([[0.7000]], device='cuda:0', grad_fn=<AddmmBackward>), true:tensor([0.7000], device='cuda:0')\n",
      "pred:tensor([[0.7000]], device='cuda:0', grad_fn=<AddmmBackward>), true:tensor([0.7000], device='cuda:0')\n",
      "pred:tensor([[0.7000]], device='cuda:0', grad_fn=<AddmmBackward>), true:tensor([0.7000], device='cuda:0')\n",
      "pred:tensor([[0.7000]], device='cuda:0', grad_fn=<AddmmBackward>), true:tensor([0.7000], device='cuda:0')\n",
      "pred:tensor([[0.7000]], device='cuda:0', grad_fn=<AddmmBackward>), true:tensor([0.7000], device='cuda:0')\n",
      "pred:tensor([[0.7000]], device='cuda:0', grad_fn=<AddmmBackward>), true:tensor([0.7000], device='cuda:0')\n",
      "pred:tensor([[0.7000]], device='cuda:0', grad_fn=<AddmmBackward>), true:tensor([0.7000], device='cuda:0')\n",
      "pred:tensor([[0.7000]], device='cuda:0', grad_fn=<AddmmBackward>), true:tensor([0.7000], device='cuda:0')\n"
     ]
    }
   ],
   "source": [
    "result_analysis(test_loader, False)"
   ]
  },
  {
   "cell_type": "code",
   "execution_count": 243,
   "id": "35cc78f9",
   "metadata": {},
   "outputs": [
    {
     "name": "stderr",
     "output_type": "stream",
     "text": [
      "  5%|▍         | 1/22 [00:00<00:00, 131.48it/s]\n"
     ]
    },
    {
     "name": "stdout",
     "output_type": "stream",
     "text": [
      "target is:  tensor(0.5600, dtype=torch.float64)\n",
      "pred:tensor([[0.5142]], device='cuda:0', grad_fn=<AddmmBackward>), true:tensor([0.5600], device='cuda:0')\n"
     ]
    },
    {
     "data": {
      "image/png": "[encoded data removed]",
      "text/plain": [
       "<Figure size 288x288 with 1 Axes>"
      ]
     },
     "metadata": {
      "needs_background": "light"
     },
     "output_type": "display_data"
    }
   ],
   "source": [
    "result_analysis(test_loader, True)"
   ]
  },
  {
   "cell_type": "code",
   "execution_count": 244,
   "id": "22cd25c4",
   "metadata": {},
   "outputs": [
    {
     "data": {
      "text/plain": [
       "((6903, 784), (7293, 784))"
      ]
     },
     "execution_count": 244,
     "metadata": {},
     "output_type": "execute_result"
    }
   ],
   "source": [
    "mnist = fetch_openml('mnist_784')\n",
    "X = mnist.data\n",
    "y = mnist.target\n",
    "\n",
    "X_0 = X[y == '0']\n",
    "X_7 = X[y == '7']\n",
    "\n",
    "X_0.shape, X_7.shape"
   ]
  },
  {
   "cell_type": "code",
   "execution_count": 245,
   "id": "abf8ebc5",
   "metadata": {},
   "outputs": [
    {
     "data": {
      "text/plain": [
       "<matplotlib.image.AxesImage at 0x7f99ab7b3190>"
      ]
     },
     "execution_count": 245,
     "metadata": {},
     "output_type": "execute_result"
    },
    {
     "data": {
      "image/png": "[encoded data removed]",
      "text/plain": [
       "<Figure size 288x288 with 1 Axes>"
      ]
     },
     "metadata": {
      "needs_background": "light"
     },
     "output_type": "display_data"
    }
   ],
   "source": [
    "plt.matshow(X_0.iloc[0].to_numpy().reshape(28,28))"
   ]
  },
  {
   "cell_type": "code",
   "execution_count": 246,
   "id": "df54f068",
   "metadata": {},
   "outputs": [
    {
     "data": {
      "text/plain": [
       "<matplotlib.image.AxesImage at 0x7f99ab7478b0>"
      ]
     },
     "execution_count": 246,
     "metadata": {},
     "output_type": "execute_result"
    },
    {
     "data": {
      "image/png": "[encoded data removed]",
      "text/plain": [
       "<Figure size 288x288 with 1 Axes>"
      ]
     },
     "metadata": {
      "needs_background": "light"
     },
     "output_type": "display_data"
    }
   ],
   "source": [
    "plt.matshow(X_7.iloc[0].to_numpy().reshape(28,28))"
   ]
  },
  {
   "cell_type": "code",
   "execution_count": 261,
   "id": "4965dee0",
   "metadata": {},
   "outputs": [
    {
     "data": {
      "text/plain": [
       "(280, 280)"
      ]
     },
     "execution_count": 261,
     "metadata": {},
     "output_type": "execute_result"
    }
   ],
   "source": [
    "row = []\n",
    "for i in range(10):\n",
    "    col = []\n",
    "    for j in range(10):\n",
    "        col.append(X_7.iloc[0].to_numpy().reshape(28,28))\n",
    "    row.append(np.hstack(col))\n",
    "\n",
    "img = np.vstack(row)\n",
    "img.shape"
   ]
  },
  {
   "cell_type": "code",
   "execution_count": 262,
   "id": "a4760361",
   "metadata": {},
   "outputs": [],
   "source": [
    "img = img/255"
   ]
  },
  {
   "cell_type": "code",
   "execution_count": 263,
   "id": "f03c716c",
   "metadata": {},
   "outputs": [
    {
     "data": {
      "text/plain": [
       "<matplotlib.image.AxesImage at 0x7f99ab780730>"
      ]
     },
     "execution_count": 263,
     "metadata": {},
     "output_type": "execute_result"
    },
    {
     "data": {
      "image/png": "[encoded data removed]",
      "text/plain": [
       "<Figure size 288x288 with 1 Axes>"
      ]
     },
     "metadata": {
      "needs_background": "light"
     },
     "output_type": "display_data"
    }
   ],
   "source": [
    "plt.matshow(img)"
   ]
  },
  {
   "cell_type": "code",
   "execution_count": 264,
   "id": "5a3e58a2",
   "metadata": {},
   "outputs": [],
   "source": [
    "img = torch.from_numpy(img)\n",
    "img = img.unsqueeze(0)\n",
    "img = torch.stack((img, img, img), 1)\n",
    "img = Variable(img)\n",
    "img = img.to(device).to(torch.float32)\n",
    "output = model(img)"
   ]
  },
  {
   "cell_type": "code",
   "execution_count": 265,
   "id": "45b7d72c",
   "metadata": {},
   "outputs": [
    {
     "data": {
      "text/plain": [
       "tensor([[0.5142]], device='cuda:0', grad_fn=<AddmmBackward>)"
      ]
     },
     "execution_count": 265,
     "metadata": {},
     "output_type": "execute_result"
    }
   ],
   "source": [
    "output"
   ]
  }
 ],
 "metadata": {
  "kernelspec": {
   "display_name": "Python 3 (ipykernel)",
   "language": "python",
   "name": "python3"
  },
  "language_info": {
   "codemirror_mode": {
    "name": "ipython",
    "version": 3
   },
   "file_extension": ".py",
   "mimetype": "text/x-python",
   "name": "python",
   "nbconvert_exporter": "python",
   "pygments_lexer": "ipython3",
   "version": "3.8.11"
  }
 },
 "nbformat": 4,
 "nbformat_minor": 5
}
